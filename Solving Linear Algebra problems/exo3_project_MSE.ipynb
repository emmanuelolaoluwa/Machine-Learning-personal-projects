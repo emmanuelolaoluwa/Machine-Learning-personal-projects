{
 "cells": [
  {
   "cell_type": "code",
   "execution_count": 5,
   "metadata": {},
   "outputs": [
    {
     "data": {
      "text/plain": [
       "'/home/emmanuel/ML'"
      ]
     },
     "execution_count": 5,
     "metadata": {},
     "output_type": "execute_result"
    }
   ],
   "source": [
    "pwd()"
   ]
  },
  {
   "cell_type": "code",
   "execution_count": 2,
   "metadata": {},
   "outputs": [
    {
     "name": "stdout",
     "output_type": "stream",
     "text": [
      " Volume in drive C is OS\n",
      " Volume Serial Number is 7678-0726\n",
      "\n",
      " Directory of C:\\Users\\dauxu\\Desktop\\ex3_hoai\n",
      "\n",
      "11/15/2019  12:32 PM    <DIR>          .\n",
      "11/15/2019  12:32 PM    <DIR>          ..\n",
      "11/15/2019  10:01 AM    <DIR>          .ipynb_checkpoints\n",
      "11/15/2019  09:26 AM           105,591 linear1.pdf\n",
      "11/15/2019  09:31 AM             9,925 LinearAlgebra_Data.xlsx\n",
      "11/15/2019  12:01 PM             9,679 LinearAlgebra_Data_solu.xlsx\n",
      "11/15/2019  12:32 PM             6,348 Untitled.ipynb\n",
      "               4 File(s)        131,543 bytes\n",
      "               3 Dir(s)  63,717,347,328 bytes free\n"
     ]
    }
   ],
   "source": [
    "ls"
   ]
  },
  {
   "cell_type": "code",
   "execution_count": 6,
   "metadata": {},
   "outputs": [],
   "source": [
    "import pandas as pd\n",
    "import numpy as np"
   ]
  },
  {
   "cell_type": "code",
   "execution_count": 7,
   "metadata": {},
   "outputs": [],
   "source": [
    "f = pd.read_excel('LinearAlgebra_Data.xlsx',headers=0)"
   ]
  },
  {
   "cell_type": "code",
   "execution_count": 8,
   "metadata": {},
   "outputs": [
    {
     "data": {
      "text/html": [
       "<div>\n",
       "<style scoped>\n",
       "    .dataframe tbody tr th:only-of-type {\n",
       "        vertical-align: middle;\n",
       "    }\n",
       "\n",
       "    .dataframe tbody tr th {\n",
       "        vertical-align: top;\n",
       "    }\n",
       "\n",
       "    .dataframe thead th {\n",
       "        text-align: right;\n",
       "    }\n",
       "</style>\n",
       "<table border=\"1\" class=\"dataframe\">\n",
       "  <thead>\n",
       "    <tr style=\"text-align: right;\">\n",
       "      <th></th>\n",
       "      <th>Driver ID</th>\n",
       "      <th>A (g/l)</th>\n",
       "      <th>S (km/h)</th>\n",
       "      <th>D (m)</th>\n",
       "    </tr>\n",
       "  </thead>\n",
       "  <tbody>\n",
       "    <tr>\n",
       "      <th>0</th>\n",
       "      <td>1</td>\n",
       "      <td>0.10</td>\n",
       "      <td>101</td>\n",
       "      <td>79</td>\n",
       "    </tr>\n",
       "    <tr>\n",
       "      <th>1</th>\n",
       "      <td>2</td>\n",
       "      <td>0.07</td>\n",
       "      <td>90</td>\n",
       "      <td>65</td>\n",
       "    </tr>\n",
       "    <tr>\n",
       "      <th>2</th>\n",
       "      <td>3</td>\n",
       "      <td>0.61</td>\n",
       "      <td>94</td>\n",
       "      <td>97</td>\n",
       "    </tr>\n",
       "  </tbody>\n",
       "</table>\n",
       "</div>"
      ],
      "text/plain": [
       "   Driver ID  A (g/l)  S (km/h)  D (m)\n",
       "0          1     0.10       101     79\n",
       "1          2     0.07        90     65\n",
       "2          3     0.61        94     97"
      ]
     },
     "execution_count": 8,
     "metadata": {},
     "output_type": "execute_result"
    }
   ],
   "source": [
    "f.head(3)"
   ]
  },
  {
   "cell_type": "code",
   "execution_count": 9,
   "metadata": {},
   "outputs": [
    {
     "data": {
      "text/html": [
       "<div>\n",
       "<style scoped>\n",
       "    .dataframe tbody tr th:only-of-type {\n",
       "        vertical-align: middle;\n",
       "    }\n",
       "\n",
       "    .dataframe tbody tr th {\n",
       "        vertical-align: top;\n",
       "    }\n",
       "\n",
       "    .dataframe thead th {\n",
       "        text-align: right;\n",
       "    }\n",
       "</style>\n",
       "<table border=\"1\" class=\"dataframe\">\n",
       "  <thead>\n",
       "    <tr style=\"text-align: right;\">\n",
       "      <th></th>\n",
       "      <th>A (g/l)</th>\n",
       "      <th>S (km/h)</th>\n",
       "    </tr>\n",
       "  </thead>\n",
       "  <tbody>\n",
       "    <tr>\n",
       "      <th>0</th>\n",
       "      <td>0.10</td>\n",
       "      <td>101</td>\n",
       "    </tr>\n",
       "    <tr>\n",
       "      <th>1</th>\n",
       "      <td>0.07</td>\n",
       "      <td>90</td>\n",
       "    </tr>\n",
       "    <tr>\n",
       "      <th>2</th>\n",
       "      <td>0.61</td>\n",
       "      <td>94</td>\n",
       "    </tr>\n",
       "  </tbody>\n",
       "</table>\n",
       "</div>"
      ],
      "text/plain": [
       "   A (g/l)  S (km/h)\n",
       "0     0.10       101\n",
       "1     0.07        90\n",
       "2     0.61        94"
      ]
     },
     "execution_count": 9,
     "metadata": {},
     "output_type": "execute_result"
    }
   ],
   "source": [
    "A= f.iloc[:,1:3]\n",
    "A.head(3)"
   ]
  },
  {
   "cell_type": "code",
   "execution_count": 10,
   "metadata": {},
   "outputs": [],
   "source": [
    "A = A.values"
   ]
  },
  {
   "cell_type": "code",
   "execution_count": 11,
   "metadata": {},
   "outputs": [
    {
     "data": {
      "text/plain": [
       "(50, 2)"
      ]
     },
     "execution_count": 11,
     "metadata": {},
     "output_type": "execute_result"
    }
   ],
   "source": [
    "A.shape"
   ]
  },
  {
   "cell_type": "code",
   "execution_count": 12,
   "metadata": {},
   "outputs": [
    {
     "data": {
      "text/plain": [
       "array([[1.00e-01, 1.01e+02],\n",
       "       [7.00e-02, 9.00e+01],\n",
       "       [6.10e-01, 9.40e+01]])"
      ]
     },
     "execution_count": 12,
     "metadata": {},
     "output_type": "execute_result"
    }
   ],
   "source": [
    "# display 3 row of A : this matrix contain(A, S)\n",
    "A[:3,:]"
   ]
  },
  {
   "cell_type": "code",
   "execution_count": 13,
   "metadata": {},
   "outputs": [
    {
     "data": {
      "text/plain": [
       "array([[1.00e+00, 1.00e-01, 1.01e+02],\n",
       "       [1.00e+00, 7.00e-02, 9.00e+01],\n",
       "       [1.00e+00, 6.10e-01, 9.40e+01]])"
      ]
     },
     "execution_count": 13,
     "metadata": {},
     "output_type": "execute_result"
    }
   ],
   "source": [
    "# add column all values = 1, thêm cột giá trị bằng 1 vào phía trước của A, this matrix contain(u, A, S) with u = ones(50,1)\n",
    "# u là vector =1 dim = 50\n",
    "A =np.append(np.ones([50,1]),A, axis=1)\n",
    "A[0:3,:]\n"
   ]
  },
  {
   "cell_type": "code",
   "execution_count": 14,
   "metadata": {},
   "outputs": [
    {
     "data": {
      "text/plain": [
       "(50, 3)"
      ]
     },
     "execution_count": 14,
     "metadata": {},
     "output_type": "execute_result"
    }
   ],
   "source": [
    "A.shape"
   ]
  },
  {
   "cell_type": "markdown",
   "metadata": {},
   "source": [
    "#### exo 2.2.a => xem note của em, chỗ hình chiếu ||v-vo|| = min||v-u|| with u in F,  (|v-u|  + |u-vo|)^2 >= |v-vo|^2"
   ]
  },
  {
   "cell_type": "markdown",
   "metadata": {},
   "source": [
    "#### exo  2.2.b => compute orthorgonal projection = solve new system which is A.T * A * lambda = A.T * D ( trong note luon)"
   ]
  },
  {
   "cell_type": "code",
   "execution_count": 15,
   "metadata": {},
   "outputs": [
    {
     "data": {
      "text/plain": [
       "(3, 3)"
      ]
     },
     "execution_count": 15,
     "metadata": {},
     "output_type": "execute_result"
    }
   ],
   "source": [
    "# A.T * A (3,50)*(50,3) =(3,3)\n",
    "left = np.dot(A.T, A)\n",
    "left.shape"
   ]
  },
  {
   "cell_type": "code",
   "execution_count": 18,
   "metadata": {},
   "outputs": [
    {
     "data": {
      "text/plain": [
       "(3, 1)"
      ]
     },
     "execution_count": 18,
     "metadata": {},
     "output_type": "execute_result"
    }
   ],
   "source": [
    "# A.T * D (3,50)*(50,1) = (3,1)\n",
    "D = f.iloc[:, 3:4].values\n",
    "right = np.dot(A.T,D)\n",
    "right.shape"
   ]
  },
  {
   "cell_type": "code",
   "execution_count": 46,
   "metadata": {},
   "outputs": [
    {
     "data": {
      "text/plain": [
       "array([[5.0000e+01, 1.4550e+01, 4.4680e+03],\n",
       "       [1.4550e+01, 5.9361e+00, 1.2954e+03],\n",
       "       [4.4680e+03, 1.2954e+03, 4.0300e+05]])"
      ]
     },
     "execution_count": 46,
     "metadata": {},
     "output_type": "execute_result"
    }
   ],
   "source": [
    "left"
   ]
  },
  {
   "cell_type": "code",
   "execution_count": 47,
   "metadata": {},
   "outputs": [
    {
     "data": {
      "text/plain": [
       "array([  3604.  ,   1123.51, 326853.  ])"
      ]
     },
     "execution_count": 47,
     "metadata": {},
     "output_type": "execute_result"
    }
   ],
   "source": [
    "right"
   ]
  },
  {
   "cell_type": "code",
   "execution_count": 55,
   "metadata": {},
   "outputs": [
    {
     "data": {
      "text/plain": [
       "array([-61.94813152,  47.69757633,   1.34454047])"
      ]
     },
     "execution_count": 55,
     "metadata": {},
     "output_type": "execute_result"
    }
   ],
   "source": [
    "# lamda0, 1, 2 can be computed = inv(A.T*A)*(A.T*D) = inv(left)*right\n",
    "lamda = np.dot(np.linalg.inv(left),right)\n",
    "lamda"
   ]
  },
  {
   "cell_type": "markdown",
   "metadata": {},
   "source": [
    "#### exo 2.2.c compute MSE of this model"
   ]
  },
  {
   "cell_type": "code",
   "execution_count": 56,
   "metadata": {},
   "outputs": [],
   "source": [
    "# = (D - lamda*A)^2"
   ]
  },
  {
   "cell_type": "code",
   "execution_count": 66,
   "metadata": {},
   "outputs": [
    {
     "data": {
      "text/plain": [
       "array([ 78.62021405,  62.39934153,  93.53419465,  79.48777876,\n",
       "        44.87527368,  65.08842248,  67.46960474,  62.91766243,\n",
       "        75.49550246,  94.83739   ,  68.25078264,  88.02830081,\n",
       "        72.50591594,  62.13648453,  69.29112098,  75.66827609,\n",
       "        90.32679281,  96.39604923,  74.84205651,  59.14689801,\n",
       "        62.8763173 ,  63.30825137,  48.64973466,  75.40911565,\n",
       "        86.94292078,  59.01546951,  58.71126737,  61.87732408,\n",
       "        67.77380688,  70.24507251,  85.68846368,  64.08942927,\n",
       "        59.87933766,  73.62894454,  91.8891486 , 103.33287036,\n",
       "        95.66360958,  64.9119523 ,  59.27462995,  64.60775016,\n",
       "        81.00509286,  75.14625864,  99.38933231,  50.42620921,\n",
       "        62.44068666,  72.46087425,  47.86855676,  55.02688977,\n",
       "        77.23063188,  83.91198913])"
      ]
     },
     "execution_count": 66,
     "metadata": {},
     "output_type": "execute_result"
    }
   ],
   "source": [
    "D_ = np.dot(A,lamda)\n",
    "D_"
   ]
  },
  {
   "cell_type": "code",
   "execution_count": 19,
   "metadata": {},
   "outputs": [
    {
     "data": {
      "text/plain": [
       "array([[ 79],\n",
       "       [ 65],\n",
       "       [ 97],\n",
       "       [ 81],\n",
       "       [ 46],\n",
       "       [ 67],\n",
       "       [ 78],\n",
       "       [ 58],\n",
       "       [ 69],\n",
       "       [107],\n",
       "       [ 57],\n",
       "       [101],\n",
       "       [ 78],\n",
       "       [ 56],\n",
       "       [ 79],\n",
       "       [ 66],\n",
       "       [103],\n",
       "       [ 97],\n",
       "       [ 82],\n",
       "       [ 64],\n",
       "       [ 66],\n",
       "       [ 60],\n",
       "       [ 52],\n",
       "       [ 71],\n",
       "       [ 94],\n",
       "       [ 60],\n",
       "       [ 58],\n",
       "       [ 59],\n",
       "       [ 57],\n",
       "       [ 79],\n",
       "       [ 81],\n",
       "       [ 62],\n",
       "       [ 69],\n",
       "       [ 62],\n",
       "       [ 80],\n",
       "       [ 92],\n",
       "       [ 88],\n",
       "       [ 57],\n",
       "       [ 57],\n",
       "       [ 55],\n",
       "       [ 79],\n",
       "       [ 85],\n",
       "       [102],\n",
       "       [ 48],\n",
       "       [ 59],\n",
       "       [ 72],\n",
       "       [ 50],\n",
       "       [ 62],\n",
       "       [ 72],\n",
       "       [ 86]])"
      ]
     },
     "execution_count": 19,
     "metadata": {},
     "output_type": "execute_result"
    }
   ],
   "source": [
    "D"
   ]
  },
  {
   "cell_type": "code",
   "execution_count": 72,
   "metadata": {},
   "outputs": [
    {
     "data": {
      "text/plain": [
       "2385.274279516432"
      ]
     },
     "execution_count": 72,
     "metadata": {},
     "output_type": "execute_result"
    }
   ],
   "source": [
    "MSE = np.sum((D-d_)**2)\n",
    "MSE"
   ]
  },
  {
   "cell_type": "code",
   "execution_count": null,
   "metadata": {},
   "outputs": [],
   "source": []
  }
 ],
 "metadata": {
  "kernelspec": {
   "display_name": "Python 3",
   "language": "python",
   "name": "python3"
  },
  "language_info": {
   "codemirror_mode": {
    "name": "ipython",
    "version": 3
   },
   "file_extension": ".py",
   "mimetype": "text/x-python",
   "name": "python",
   "nbconvert_exporter": "python",
   "pygments_lexer": "ipython3",
   "version": "3.7.3"
  }
 },
 "nbformat": 4,
 "nbformat_minor": 4
}
