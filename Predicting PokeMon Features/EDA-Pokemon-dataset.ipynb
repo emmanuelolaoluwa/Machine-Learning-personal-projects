{
 "cells": [
  {
   "cell_type": "code",
   "execution_count": 90,
   "metadata": {},
   "outputs": [],
   "source": [
    "import pandas as pd\n",
    "import matplotlib.pyplot as plt\n",
    "import seaborn as sns\n",
    "import numpy as np"
   ]
  },
  {
   "cell_type": "code",
   "execution_count": 91,
   "metadata": {},
   "outputs": [],
   "source": [
    "data = pd.read_csv('pokemon_alopez247.csv')"
   ]
  },
  {
   "cell_type": "code",
   "execution_count": 16,
   "metadata": {
    "scrolled": false
   },
   "outputs": [
    {
     "data": {
      "text/plain": [
       "Number              721\n",
       "Name                721\n",
       "Type_1               18\n",
       "Type_2               18\n",
       "Total               183\n",
       "HP                   94\n",
       "Attack              100\n",
       "Defense              97\n",
       "Sp_Atk               94\n",
       "Sp_Def               90\n",
       "Speed               101\n",
       "Generation            6\n",
       "isLegendary           2\n",
       "Color                10\n",
       "hasGender             2\n",
       "Pr_Male               7\n",
       "Egg_Group_1          15\n",
       "Egg_Group_2          13\n",
       "hasMegaEvolution      2\n",
       "Height_m             50\n",
       "Weight_kg           398\n",
       "Catch_Rate           33\n",
       "Body_Style           14\n",
       "dtype: int64"
      ]
     },
     "execution_count": 16,
     "metadata": {},
     "output_type": "execute_result"
    }
   ],
   "source": [
    "data.nunique()"
   ]
  },
  {
   "cell_type": "code",
   "execution_count": 17,
   "metadata": {
    "scrolled": true
   },
   "outputs": [
    {
     "data": {
      "text/plain": [
       "Number                0\n",
       "Name                  0\n",
       "Type_1                0\n",
       "Type_2              371\n",
       "Total                 0\n",
       "HP                    0\n",
       "Attack                0\n",
       "Defense               0\n",
       "Sp_Atk                0\n",
       "Sp_Def                0\n",
       "Speed                 0\n",
       "Generation            0\n",
       "isLegendary           0\n",
       "Color                 0\n",
       "hasGender             0\n",
       "Pr_Male              77\n",
       "Egg_Group_1           0\n",
       "Egg_Group_2         530\n",
       "hasMegaEvolution      0\n",
       "Height_m              0\n",
       "Weight_kg             0\n",
       "Catch_Rate            0\n",
       "Body_Style            0\n",
       "dtype: int64"
      ]
     },
     "execution_count": 17,
     "metadata": {},
     "output_type": "execute_result"
    }
   ],
   "source": [
    "data.isna().sum()"
   ]
  },
  {
   "cell_type": "code",
   "execution_count": 19,
   "metadata": {
    "scrolled": true
   },
   "outputs": [
    {
     "name": "stdout",
     "output_type": "stream",
     "text": [
      "┌────────┬─────────┬─────────────┐\n",
      "│ Type_2 │ Pr_Male │ Egg_Group_2 │\n",
      "├────────┼─────────┼─────────────┤\n",
      "│    371 │      77 │         530 │\n",
      "└────────┴─────────┴─────────────┘\n"
     ]
    }
   ],
   "source": [
    "import tabletext\n",
    "\n",
    "show = [[\"Type_2\",\"Pr_Male\",\"Egg_Group_2\"],\n",
    "        [371,77,530],]\n",
    "\n",
    "print (tabletext.to_text(show))"
   ]
  },
  {
   "cell_type": "markdown",
   "metadata": {},
   "source": [
    "# 2. Preprocessing variables based on type"
   ]
  },
  {
   "cell_type": "code",
   "execution_count": 22,
   "metadata": {},
   "outputs": [
    {
     "name": "stdout",
     "output_type": "stream",
     "text": [
      "<class 'pandas.core.frame.DataFrame'>\n",
      "RangeIndex: 721 entries, 0 to 720\n",
      "Data columns (total 23 columns):\n",
      "Number              721 non-null int64\n",
      "Name                721 non-null object\n",
      "Type_1              721 non-null object\n",
      "Type_2              350 non-null object\n",
      "Total               721 non-null int64\n",
      "HP                  721 non-null int64\n",
      "Attack              721 non-null int64\n",
      "Defense             721 non-null int64\n",
      "Sp_Atk              721 non-null int64\n",
      "Sp_Def              721 non-null int64\n",
      "Speed               721 non-null int64\n",
      "Generation          721 non-null int64\n",
      "isLegendary         721 non-null bool\n",
      "Color               721 non-null object\n",
      "hasGender           721 non-null bool\n",
      "Pr_Male             644 non-null float64\n",
      "Egg_Group_1         721 non-null object\n",
      "Egg_Group_2         191 non-null object\n",
      "hasMegaEvolution    721 non-null bool\n",
      "Height_m            721 non-null float64\n",
      "Weight_kg           721 non-null float64\n",
      "Catch_Rate          721 non-null int64\n",
      "Body_Style          721 non-null object\n",
      "dtypes: bool(3), float64(3), int64(10), object(7)\n",
      "memory usage: 114.9+ KB\n"
     ]
    }
   ],
   "source": [
    "data.info()"
   ]
  },
  {
   "cell_type": "code",
   "execution_count": 92,
   "metadata": {},
   "outputs": [],
   "source": [
    "#COLUMNS BY TYPE\n",
    "int_columns = ['Total', 'HP', 'Attack','Defense', 'Sp_Atk', 'Sp_Def', 'Speed','Height_m', 'Weight_kg', 'Catch_Rate']\n",
    "columns_freq = ['Type_1', 'Type_2', 'Color','Pr_Male', 'Egg_Group_1', 'Egg_Group_2', 'Body_Style' ]\n",
    "other = ['Generation', 'isLegendary', 'hasGender', 'hasMegaEvolution']"
   ]
  },
  {
   "cell_type": "code",
   "execution_count": 93,
   "metadata": {},
   "outputs": [],
   "source": [
    "#DATASETS BY TYPE\n",
    "data_int = data[int_columns]\n",
    "data_freq = data[columns_freq]"
   ]
  },
  {
   "cell_type": "markdown",
   "metadata": {},
   "source": [
    "## 3.1. Preprocessing integer variables"
   ]
  },
  {
   "cell_type": "markdown",
   "metadata": {},
   "source": [
    "In this section we will explore the distribution of all the integer variables and based on the visualization we will decide whether the variables need to be transformed. The reason for this is that the most ML algorithms assume normality. "
   ]
  },
  {
   "cell_type": "code",
   "execution_count": 25,
   "metadata": {
    "scrolled": true
   },
   "outputs": [
    {
     "data": {
      "text/html": [
       "<div>\n",
       "<style scoped>\n",
       "    .dataframe tbody tr th:only-of-type {\n",
       "        vertical-align: middle;\n",
       "    }\n",
       "\n",
       "    .dataframe tbody tr th {\n",
       "        vertical-align: top;\n",
       "    }\n",
       "\n",
       "    .dataframe thead th {\n",
       "        text-align: right;\n",
       "    }\n",
       "</style>\n",
       "<table border=\"1\" class=\"dataframe\">\n",
       "  <thead>\n",
       "    <tr style=\"text-align: right;\">\n",
       "      <th></th>\n",
       "      <th>Total</th>\n",
       "      <th>HP</th>\n",
       "      <th>Attack</th>\n",
       "      <th>Defense</th>\n",
       "      <th>Sp_Atk</th>\n",
       "      <th>Sp_Def</th>\n",
       "      <th>Speed</th>\n",
       "      <th>Height_m</th>\n",
       "      <th>Weight_kg</th>\n",
       "      <th>Catch_Rate</th>\n",
       "    </tr>\n",
       "  </thead>\n",
       "  <tbody>\n",
       "    <tr>\n",
       "      <th>0</th>\n",
       "      <td>318</td>\n",
       "      <td>45</td>\n",
       "      <td>49</td>\n",
       "      <td>49</td>\n",
       "      <td>65</td>\n",
       "      <td>65</td>\n",
       "      <td>45</td>\n",
       "      <td>0.71</td>\n",
       "      <td>6.9</td>\n",
       "      <td>45</td>\n",
       "    </tr>\n",
       "    <tr>\n",
       "      <th>1</th>\n",
       "      <td>405</td>\n",
       "      <td>60</td>\n",
       "      <td>62</td>\n",
       "      <td>63</td>\n",
       "      <td>80</td>\n",
       "      <td>80</td>\n",
       "      <td>60</td>\n",
       "      <td>0.99</td>\n",
       "      <td>13.0</td>\n",
       "      <td>45</td>\n",
       "    </tr>\n",
       "    <tr>\n",
       "      <th>2</th>\n",
       "      <td>525</td>\n",
       "      <td>80</td>\n",
       "      <td>82</td>\n",
       "      <td>83</td>\n",
       "      <td>100</td>\n",
       "      <td>100</td>\n",
       "      <td>80</td>\n",
       "      <td>2.01</td>\n",
       "      <td>100.0</td>\n",
       "      <td>45</td>\n",
       "    </tr>\n",
       "    <tr>\n",
       "      <th>3</th>\n",
       "      <td>309</td>\n",
       "      <td>39</td>\n",
       "      <td>52</td>\n",
       "      <td>43</td>\n",
       "      <td>60</td>\n",
       "      <td>50</td>\n",
       "      <td>65</td>\n",
       "      <td>0.61</td>\n",
       "      <td>8.5</td>\n",
       "      <td>45</td>\n",
       "    </tr>\n",
       "    <tr>\n",
       "      <th>4</th>\n",
       "      <td>405</td>\n",
       "      <td>58</td>\n",
       "      <td>64</td>\n",
       "      <td>58</td>\n",
       "      <td>80</td>\n",
       "      <td>65</td>\n",
       "      <td>80</td>\n",
       "      <td>1.09</td>\n",
       "      <td>19.0</td>\n",
       "      <td>45</td>\n",
       "    </tr>\n",
       "    <tr>\n",
       "      <th>...</th>\n",
       "      <td>...</td>\n",
       "      <td>...</td>\n",
       "      <td>...</td>\n",
       "      <td>...</td>\n",
       "      <td>...</td>\n",
       "      <td>...</td>\n",
       "      <td>...</td>\n",
       "      <td>...</td>\n",
       "      <td>...</td>\n",
       "      <td>...</td>\n",
       "    </tr>\n",
       "    <tr>\n",
       "      <th>716</th>\n",
       "      <td>680</td>\n",
       "      <td>126</td>\n",
       "      <td>131</td>\n",
       "      <td>95</td>\n",
       "      <td>131</td>\n",
       "      <td>98</td>\n",
       "      <td>99</td>\n",
       "      <td>5.79</td>\n",
       "      <td>203.0</td>\n",
       "      <td>45</td>\n",
       "    </tr>\n",
       "    <tr>\n",
       "      <th>717</th>\n",
       "      <td>600</td>\n",
       "      <td>108</td>\n",
       "      <td>100</td>\n",
       "      <td>121</td>\n",
       "      <td>81</td>\n",
       "      <td>95</td>\n",
       "      <td>95</td>\n",
       "      <td>5.00</td>\n",
       "      <td>305.0</td>\n",
       "      <td>3</td>\n",
       "    </tr>\n",
       "    <tr>\n",
       "      <th>718</th>\n",
       "      <td>600</td>\n",
       "      <td>50</td>\n",
       "      <td>100</td>\n",
       "      <td>150</td>\n",
       "      <td>100</td>\n",
       "      <td>150</td>\n",
       "      <td>50</td>\n",
       "      <td>0.71</td>\n",
       "      <td>8.8</td>\n",
       "      <td>3</td>\n",
       "    </tr>\n",
       "    <tr>\n",
       "      <th>719</th>\n",
       "      <td>600</td>\n",
       "      <td>80</td>\n",
       "      <td>110</td>\n",
       "      <td>60</td>\n",
       "      <td>150</td>\n",
       "      <td>130</td>\n",
       "      <td>70</td>\n",
       "      <td>0.51</td>\n",
       "      <td>9.0</td>\n",
       "      <td>3</td>\n",
       "    </tr>\n",
       "    <tr>\n",
       "      <th>720</th>\n",
       "      <td>600</td>\n",
       "      <td>80</td>\n",
       "      <td>110</td>\n",
       "      <td>120</td>\n",
       "      <td>130</td>\n",
       "      <td>90</td>\n",
       "      <td>70</td>\n",
       "      <td>1.70</td>\n",
       "      <td>195.0</td>\n",
       "      <td>3</td>\n",
       "    </tr>\n",
       "  </tbody>\n",
       "</table>\n",
       "<p>721 rows × 10 columns</p>\n",
       "</div>"
      ],
      "text/plain": [
       "     Total   HP  Attack  Defense  Sp_Atk  Sp_Def  Speed  Height_m  Weight_kg  \\\n",
       "0      318   45      49       49      65      65     45      0.71        6.9   \n",
       "1      405   60      62       63      80      80     60      0.99       13.0   \n",
       "2      525   80      82       83     100     100     80      2.01      100.0   \n",
       "3      309   39      52       43      60      50     65      0.61        8.5   \n",
       "4      405   58      64       58      80      65     80      1.09       19.0   \n",
       "..     ...  ...     ...      ...     ...     ...    ...       ...        ...   \n",
       "716    680  126     131       95     131      98     99      5.79      203.0   \n",
       "717    600  108     100      121      81      95     95      5.00      305.0   \n",
       "718    600   50     100      150     100     150     50      0.71        8.8   \n",
       "719    600   80     110       60     150     130     70      0.51        9.0   \n",
       "720    600   80     110      120     130      90     70      1.70      195.0   \n",
       "\n",
       "     Catch_Rate  \n",
       "0            45  \n",
       "1            45  \n",
       "2            45  \n",
       "3            45  \n",
       "4            45  \n",
       "..          ...  \n",
       "716          45  \n",
       "717           3  \n",
       "718           3  \n",
       "719           3  \n",
       "720           3  \n",
       "\n",
       "[721 rows x 10 columns]"
      ]
     },
     "execution_count": 25,
     "metadata": {},
     "output_type": "execute_result"
    }
   ],
   "source": [
    "data_int"
   ]
  },
  {
   "cell_type": "code",
   "execution_count": 26,
   "metadata": {
    "scrolled": true
   },
   "outputs": [
    {
     "data": {
      "text/plain": [
       "<matplotlib.axes._subplots.AxesSubplot at 0x1223738d0>"
      ]
     },
     "execution_count": 26,
     "metadata": {},
     "output_type": "execute_result"
    },
    {
     "data": {
      "image/png": "[encoded data removed]",
      "text/plain": [
       "<Figure size 720x720 with 9 Axes>"
      ]
     },
     "metadata": {},
     "output_type": "display_data"
    }
   ],
   "source": [
    "f, axes = plt.subplots(3, 3, figsize=(10, 10), sharex=False)\n",
    "sns.distplot( data[\"Total\"] , color=\"skyblue\", ax=axes[0, 0])\n",
    "sns.distplot( data[\"HP\"] , color=\"olive\", ax=axes[0, 1])\n",
    "sns.distplot( data[\"Attack\"] , color=\"gold\", ax=axes[0, 2])\n",
    "sns.distplot( data[\"Defense\"] , color=\"teal\", ax=axes[1, 0])\n",
    "sns.distplot( data[\"Sp_Atk\"] , color=\"skyblue\", ax=axes[1, 1])\n",
    "sns.distplot( data[\"Sp_Def\"] , color=\"olive\", ax=axes[1, 2])\n",
    "sns.distplot( data[\"Speed\"] , color=\"gold\", ax=axes[2, 0])\n",
    "sns.distplot( data[\"Height_m\"] , color=\"teal\", ax=axes[2, 1])\n",
    "sns.distplot( data[\"Weight_kg\"] , color=\"skyblue\", ax=axes[2, 2])"
   ]
  },
  {
   "cell_type": "markdown",
   "metadata": {},
   "source": [
    "From this plot we see that most of the variables expect for the \"Weight\" and \"Height\" (skewed) and \"Total\"(bimodal) are normally distrubuted. In the following steps we will apply log-transformation to \"Weight\" and \"Height\" which will make out data more normally distributed and will skale the data so the two columns will have values in similar ranges. For the variable \"Total\" we will keep it like it is because it is a sum of all the other variables that are normally distributed. "
   ]
  },
  {
   "cell_type": "code",
   "execution_count": 27,
   "metadata": {},
   "outputs": [
    {
     "name": "stdout",
     "output_type": "stream",
     "text": [
      "Skewness of var Height : 5.51\n",
      "Skewness of var Weight : 4.01\n"
     ]
    }
   ],
   "source": [
    "print (\"Skewness of var Height : %.2f\"%(data_int[\"Height_m\"].skew()))\n",
    "print (\"Skewness of var Weight : %.2f\"%(data_int[\"Weight_kg\"].skew()))"
   ]
  },
  {
   "cell_type": "code",
   "execution_count": 30,
   "metadata": {},
   "outputs": [
    {
     "name": "stderr",
     "output_type": "stream",
     "text": [
      "/usr/local/Cellar/jupyter/1.0.0_5/libexec/lib/python3.7/site-packages/ipykernel_launcher.py:2: SettingWithCopyWarning: \n",
      "A value is trying to be set on a copy of a slice from a DataFrame.\n",
      "Try using .loc[row_indexer,col_indexer] = value instead\n",
      "\n",
      "See the caveats in the documentation: http://pandas.pydata.org/pandas-docs/stable/user_guide/indexing.html#returning-a-view-versus-a-copy\n",
      "  \n",
      "/usr/local/Cellar/jupyter/1.0.0_5/libexec/lib/python3.7/site-packages/ipykernel_launcher.py:3: SettingWithCopyWarning: \n",
      "A value is trying to be set on a copy of a slice from a DataFrame.\n",
      "Try using .loc[row_indexer,col_indexer] = value instead\n",
      "\n",
      "See the caveats in the documentation: http://pandas.pydata.org/pandas-docs/stable/user_guide/indexing.html#returning-a-view-versus-a-copy\n",
      "  This is separate from the ipykernel package so we can avoid doing imports until\n"
     ]
    }
   ],
   "source": [
    "#LOG TRANSFORMATION\n",
    "data_int[\"Weight_kg\"] = data_int[\"Weight_kg\"].map(lambda i: np.log(i) if i > 0 else 0)\n",
    "data_int[\"Height_m\"] = data_int[\"Height_m\"].map(lambda i: np.log(i) if i > 0 else 0)"
   ]
  },
  {
   "cell_type": "code",
   "execution_count": 31,
   "metadata": {
    "scrolled": true
   },
   "outputs": [
    {
     "name": "stdout",
     "output_type": "stream",
     "text": [
      "Skewness of var Height : 0.10\n",
      "Skewness of var Weight : -0.51\n"
     ]
    }
   ],
   "source": [
    "print (\"Skewness of var Height : %.2f\"%(data_int[\"Height_m\"].skew()))\n",
    "print (\"Skewness of var Weight : %.2f\"%(data_int[\"Weight_kg\"].skew()))"
   ]
  },
  {
   "cell_type": "markdown",
   "metadata": {},
   "source": [
    "We can see that the skewness reduced and now we will prove it also visually. "
   ]
  },
  {
   "cell_type": "code",
   "execution_count": 32,
   "metadata": {},
   "outputs": [
    {
     "data": {
      "image/png": "[encoded data removed]",
      "text/plain": [
       "<Figure size 432x288 with 1 Axes>"
      ]
     },
     "metadata": {},
     "output_type": "display_data"
    }
   ],
   "source": [
    "g = sns.distplot(data_int[\"Height_m\"], color=\"gold\", label=\"Skewness : %.2f\"%(data_int[\"Height_m\"].skew()))\n",
    "g = g.legend(loc=\"best\")"
   ]
  },
  {
   "cell_type": "code",
   "execution_count": 33,
   "metadata": {},
   "outputs": [
    {
     "data": {
      "image/png": "[encoded data removed]",
      "text/plain": [
       "<Figure size 432x288 with 1 Axes>"
      ]
     },
     "metadata": {},
     "output_type": "display_data"
    }
   ],
   "source": [
    "g = sns.distplot(data_int[\"Weight_kg\"], color=\"teal\", label=\"Skewness : %.2f\"%(data_int[\"Weight_kg\"].skew()))\n",
    "g = g.legend(loc=\"best\")"
   ]
  },
  {
   "cell_type": "markdown",
   "metadata": {},
   "source": [
    "## 3.2. Preprocessing categorical variables and variables with missing values"
   ]
  },
  {
   "cell_type": "code",
   "execution_count": 34,
   "metadata": {
    "scrolled": true
   },
   "outputs": [
    {
     "data": {
      "text/html": [
       "<div>\n",
       "<style scoped>\n",
       "    .dataframe tbody tr th:only-of-type {\n",
       "        vertical-align: middle;\n",
       "    }\n",
       "\n",
       "    .dataframe tbody tr th {\n",
       "        vertical-align: top;\n",
       "    }\n",
       "\n",
       "    .dataframe thead th {\n",
       "        text-align: right;\n",
       "    }\n",
       "</style>\n",
       "<table border=\"1\" class=\"dataframe\">\n",
       "  <thead>\n",
       "    <tr style=\"text-align: right;\">\n",
       "      <th></th>\n",
       "      <th>Type_1</th>\n",
       "      <th>Type_2</th>\n",
       "      <th>Color</th>\n",
       "      <th>Pr_Male</th>\n",
       "      <th>Egg_Group_1</th>\n",
       "      <th>Egg_Group_2</th>\n",
       "      <th>Body_Style</th>\n",
       "    </tr>\n",
       "  </thead>\n",
       "  <tbody>\n",
       "    <tr>\n",
       "      <th>0</th>\n",
       "      <td>Grass</td>\n",
       "      <td>Poison</td>\n",
       "      <td>Green</td>\n",
       "      <td>0.875</td>\n",
       "      <td>Monster</td>\n",
       "      <td>Grass</td>\n",
       "      <td>quadruped</td>\n",
       "    </tr>\n",
       "    <tr>\n",
       "      <th>1</th>\n",
       "      <td>Grass</td>\n",
       "      <td>Poison</td>\n",
       "      <td>Green</td>\n",
       "      <td>0.875</td>\n",
       "      <td>Monster</td>\n",
       "      <td>Grass</td>\n",
       "      <td>quadruped</td>\n",
       "    </tr>\n",
       "    <tr>\n",
       "      <th>2</th>\n",
       "      <td>Grass</td>\n",
       "      <td>Poison</td>\n",
       "      <td>Green</td>\n",
       "      <td>0.875</td>\n",
       "      <td>Monster</td>\n",
       "      <td>Grass</td>\n",
       "      <td>quadruped</td>\n",
       "    </tr>\n",
       "    <tr>\n",
       "      <th>3</th>\n",
       "      <td>Fire</td>\n",
       "      <td>NaN</td>\n",
       "      <td>Red</td>\n",
       "      <td>0.875</td>\n",
       "      <td>Monster</td>\n",
       "      <td>Dragon</td>\n",
       "      <td>bipedal_tailed</td>\n",
       "    </tr>\n",
       "    <tr>\n",
       "      <th>4</th>\n",
       "      <td>Fire</td>\n",
       "      <td>NaN</td>\n",
       "      <td>Red</td>\n",
       "      <td>0.875</td>\n",
       "      <td>Monster</td>\n",
       "      <td>Dragon</td>\n",
       "      <td>bipedal_tailed</td>\n",
       "    </tr>\n",
       "    <tr>\n",
       "      <th>...</th>\n",
       "      <td>...</td>\n",
       "      <td>...</td>\n",
       "      <td>...</td>\n",
       "      <td>...</td>\n",
       "      <td>...</td>\n",
       "      <td>...</td>\n",
       "      <td>...</td>\n",
       "    </tr>\n",
       "    <tr>\n",
       "      <th>716</th>\n",
       "      <td>Dark</td>\n",
       "      <td>Flying</td>\n",
       "      <td>Red</td>\n",
       "      <td>NaN</td>\n",
       "      <td>Undiscovered</td>\n",
       "      <td>NaN</td>\n",
       "      <td>two_wings</td>\n",
       "    </tr>\n",
       "    <tr>\n",
       "      <th>717</th>\n",
       "      <td>Dragon</td>\n",
       "      <td>Ground</td>\n",
       "      <td>Green</td>\n",
       "      <td>NaN</td>\n",
       "      <td>Undiscovered</td>\n",
       "      <td>NaN</td>\n",
       "      <td>serpentine_body</td>\n",
       "    </tr>\n",
       "    <tr>\n",
       "      <th>718</th>\n",
       "      <td>Rock</td>\n",
       "      <td>Fairy</td>\n",
       "      <td>Pink</td>\n",
       "      <td>NaN</td>\n",
       "      <td>Undiscovered</td>\n",
       "      <td>NaN</td>\n",
       "      <td>head_arms</td>\n",
       "    </tr>\n",
       "    <tr>\n",
       "      <th>719</th>\n",
       "      <td>Psychic</td>\n",
       "      <td>Ghost</td>\n",
       "      <td>Purple</td>\n",
       "      <td>NaN</td>\n",
       "      <td>Undiscovered</td>\n",
       "      <td>NaN</td>\n",
       "      <td>head_only</td>\n",
       "    </tr>\n",
       "    <tr>\n",
       "      <th>720</th>\n",
       "      <td>Fire</td>\n",
       "      <td>Water</td>\n",
       "      <td>Brown</td>\n",
       "      <td>NaN</td>\n",
       "      <td>Undiscovered</td>\n",
       "      <td>NaN</td>\n",
       "      <td>quadruped</td>\n",
       "    </tr>\n",
       "  </tbody>\n",
       "</table>\n",
       "<p>721 rows × 7 columns</p>\n",
       "</div>"
      ],
      "text/plain": [
       "      Type_1  Type_2   Color  Pr_Male   Egg_Group_1 Egg_Group_2  \\\n",
       "0      Grass  Poison   Green    0.875       Monster       Grass   \n",
       "1      Grass  Poison   Green    0.875       Monster       Grass   \n",
       "2      Grass  Poison   Green    0.875       Monster       Grass   \n",
       "3       Fire     NaN     Red    0.875       Monster      Dragon   \n",
       "4       Fire     NaN     Red    0.875       Monster      Dragon   \n",
       "..       ...     ...     ...      ...           ...         ...   \n",
       "716     Dark  Flying     Red      NaN  Undiscovered         NaN   \n",
       "717   Dragon  Ground   Green      NaN  Undiscovered         NaN   \n",
       "718     Rock   Fairy    Pink      NaN  Undiscovered         NaN   \n",
       "719  Psychic   Ghost  Purple      NaN  Undiscovered         NaN   \n",
       "720     Fire   Water   Brown      NaN  Undiscovered         NaN   \n",
       "\n",
       "          Body_Style  \n",
       "0          quadruped  \n",
       "1          quadruped  \n",
       "2          quadruped  \n",
       "3     bipedal_tailed  \n",
       "4     bipedal_tailed  \n",
       "..               ...  \n",
       "716        two_wings  \n",
       "717  serpentine_body  \n",
       "718        head_arms  \n",
       "719        head_only  \n",
       "720        quadruped  \n",
       "\n",
       "[721 rows x 7 columns]"
      ]
     },
     "execution_count": 34,
     "metadata": {},
     "output_type": "execute_result"
    }
   ],
   "source": [
    "data_freq"
   ]
  },
  {
   "cell_type": "code",
   "execution_count": 35,
   "metadata": {
    "scrolled": true
   },
   "outputs": [
    {
     "data": {
      "image/png": "[encoded data removed]",
      "text/plain": [
       "<Figure size 432x288 with 1 Axes>"
      ]
     },
     "metadata": {},
     "output_type": "display_data"
    }
   ],
   "source": [
    "g = sns.countplot( y = data[\"Type_1\"] , palette=\"Set3\", )"
   ]
  },
  {
   "cell_type": "code",
   "execution_count": 36,
   "metadata": {
    "scrolled": true
   },
   "outputs": [
    {
     "data": {
      "image/png": "[encoded data removed]",
      "text/plain": [
       "<Figure size 432x288 with 1 Axes>"
      ]
     },
     "metadata": {},
     "output_type": "display_data"
    }
   ],
   "source": [
    "g = sns.countplot( y = data[\"Color\"] , palette=\"Set3\", )"
   ]
  },
  {
   "cell_type": "code",
   "execution_count": 37,
   "metadata": {
    "scrolled": true
   },
   "outputs": [
    {
     "data": {
      "image/png": "[encoded data removed]",
      "text/plain": [
       "<Figure size 432x288 with 1 Axes>"
      ]
     },
     "metadata": {},
     "output_type": "display_data"
    }
   ],
   "source": [
    "g = sns.countplot( y = data[\"Egg_Group_1\"] , palette=\"Set3\", )"
   ]
  },
  {
   "cell_type": "code",
   "execution_count": 38,
   "metadata": {},
   "outputs": [
    {
     "data": {
      "image/png": "[encoded data removed]",
      "text/plain": [
       "<Figure size 432x288 with 1 Axes>"
      ]
     },
     "metadata": {},
     "output_type": "display_data"
    }
   ],
   "source": [
    "g = sns.countplot( y = data[\"Body_Style\"] , palette=\"Set3\", )"
   ]
  },
  {
   "cell_type": "code",
   "execution_count": 39,
   "metadata": {},
   "outputs": [
    {
     "data": {
      "image/png": "[encoded data removed]",
      "text/plain": [
       "<Figure size 432x288 with 1 Axes>"
      ]
     },
     "metadata": {},
     "output_type": "display_data"
    }
   ],
   "source": [
    "g = sns.countplot( y = data[\"Type_2\"] , palette=\"Set3\", )"
   ]
  },
  {
   "cell_type": "code",
   "execution_count": 40,
   "metadata": {
    "scrolled": true
   },
   "outputs": [
    {
     "data": {
      "image/png": "[encoded data removed]",
      "text/plain": [
       "<Figure size 432x288 with 1 Axes>"
      ]
     },
     "metadata": {},
     "output_type": "display_data"
    }
   ],
   "source": [
    "g = sns.countplot( y = data[\"Egg_Group_2\"] , palette=\"Set3\", )"
   ]
  },
  {
   "cell_type": "code",
   "execution_count": 41,
   "metadata": {},
   "outputs": [
    {
     "data": {
      "image/png": "[encoded data removed]",
      "text/plain": [
       "<Figure size 432x288 with 1 Axes>"
      ]
     },
     "metadata": {},
     "output_type": "display_data"
    }
   ],
   "source": [
    "g = sns.countplot( y = data[\"Pr_Male\"] , palette=\"Set3\", )"
   ]
  },
  {
   "cell_type": "markdown",
   "metadata": {},
   "source": [
    "Plotting all of the categorical variables shows us that in the class the frequencies are quite different and maybe that is a feature we want to preserve while transforming the categorical variables. Using frequency encoding will also reduce the number of dimensions as oppose to one-hot encoding where each value a class can take becomes a new variable. The missing values in “Type_2” and “Egg_Group_2” will be replaced by zero. For the variable “Pr_male” we will just fill the missing values with 0, because from the discription it indicates that a Pokemon does not have a male form. "
   ]
  },
  {
   "cell_type": "markdown",
   "metadata": {},
   "source": [
    "### 3.2.1. Filling missing values and Frequency encoding "
   ]
  },
  {
   "cell_type": "code",
   "execution_count": 84,
   "metadata": {
    "scrolled": true
   },
   "outputs": [
    {
     "name": "stdout",
     "output_type": "stream",
     "text": [
      "<class 'pandas.core.frame.DataFrame'>\n",
      "RangeIndex: 721 entries, 0 to 720\n",
      "Data columns (total 7 columns):\n",
      "Type_1         721 non-null object\n",
      "Type_2         350 non-null object\n",
      "Color          721 non-null object\n",
      "Pr_Male        644 non-null float64\n",
      "Egg_Group_1    721 non-null object\n",
      "Egg_Group_2    191 non-null object\n",
      "Body_Style     721 non-null object\n",
      "dtypes: float64(1), object(6)\n",
      "memory usage: 39.6+ KB\n"
     ]
    }
   ],
   "source": [
    "data_freq.info()"
   ]
  },
  {
   "cell_type": "code",
   "execution_count": 116,
   "metadata": {
    "scrolled": true
   },
   "outputs": [
    {
     "name": "stderr",
     "output_type": "stream",
     "text": [
      "/usr/local/Cellar/jupyter/1.0.0_5/libexec/lib/python3.7/site-packages/ipykernel_launcher.py:3: SettingWithCopyWarning: \n",
      "A value is trying to be set on a copy of a slice from a DataFrame.\n",
      "Try using .loc[row_indexer,col_indexer] = value instead\n",
      "\n",
      "See the caveats in the documentation: http://pandas.pydata.org/pandas-docs/stable/user_guide/indexing.html#returning-a-view-versus-a-copy\n",
      "  This is separate from the ipykernel package so we can avoid doing imports until\n"
     ]
    }
   ],
   "source": [
    "for i in columns_freq:\n",
    "    s = dict(data_freq[i].value_counts())\n",
    "    data_freq[i] = data_freq[i].map(s).fillna(0)\n",
    "    #s.clear()\n",
    "    \n",
    "    "
   ]
  },
  {
   "cell_type": "code",
   "execution_count": 125,
   "metadata": {
    "scrolled": true
   },
   "outputs": [
    {
     "name": "stdout",
     "output_type": "stream",
     "text": [
      "<class 'pandas.core.frame.DataFrame'>\n",
      "RangeIndex: 721 entries, 0 to 720\n",
      "Data columns (total 7 columns):\n",
      "Type_1         721 non-null int64\n",
      "Type_2         721 non-null float64\n",
      "Color          721 non-null int64\n",
      "Pr_Male        721 non-null float64\n",
      "Egg_Group_1    721 non-null int64\n",
      "Egg_Group_2    721 non-null float64\n",
      "Body_Style     721 non-null int64\n",
      "dtypes: float64(3), int64(4)\n",
      "memory usage: 39.6 KB\n"
     ]
    }
   ],
   "source": [
    "data_freq.info()"
   ]
  },
  {
   "cell_type": "code",
   "execution_count": 126,
   "metadata": {},
   "outputs": [],
   "source": [
    "columns_freq1 = ['Type_1', 'Color', 'Egg_Group_1', 'Body_Style' ]\n",
    "columns_freq2 = ['Type_2', 'Pr_Male', 'Egg_Group_2']"
   ]
  },
  {
   "cell_type": "code",
   "execution_count": 128,
   "metadata": {},
   "outputs": [
    {
     "data": {
      "text/plain": [
       "Number                0\n",
       "Name                  0\n",
       "Type_1                0\n",
       "Type_2              371\n",
       "Total                 0\n",
       "HP                    0\n",
       "Attack                0\n",
       "Defense               0\n",
       "Sp_Atk                0\n",
       "Sp_Def                0\n",
       "Speed                 0\n",
       "Generation            0\n",
       "isLegendary           0\n",
       "Color                 0\n",
       "hasGender             0\n",
       "Pr_Male              77\n",
       "Egg_Group_1           0\n",
       "Egg_Group_2         530\n",
       "hasMegaEvolution      0\n",
       "Height_m              0\n",
       "Weight_kg             0\n",
       "Catch_Rate            0\n",
       "Body_Style            0\n",
       "dtype: int64"
      ]
     },
     "execution_count": 128,
     "metadata": {},
     "output_type": "execute_result"
    }
   ],
   "source": [
    "data.isna().sum()"
   ]
  },
  {
   "cell_type": "code",
   "execution_count": 130,
   "metadata": {},
   "outputs": [
    {
     "name": "stdout",
     "output_type": "stream",
     "text": [
      "<class 'pandas.core.frame.DataFrame'>\n",
      "RangeIndex: 721 entries, 0 to 720\n",
      "Data columns (total 23 columns):\n",
      "Number              721 non-null int64\n",
      "Name                721 non-null object\n",
      "Type_1              721 non-null object\n",
      "Type_2              350 non-null object\n",
      "Total               721 non-null int64\n",
      "HP                  721 non-null int64\n",
      "Attack              721 non-null int64\n",
      "Defense             721 non-null int64\n",
      "Sp_Atk              721 non-null int64\n",
      "Sp_Def              721 non-null int64\n",
      "Speed               721 non-null int64\n",
      "Generation          721 non-null int64\n",
      "isLegendary         721 non-null bool\n",
      "Color               721 non-null object\n",
      "hasGender           721 non-null bool\n",
      "Pr_Male             644 non-null float64\n",
      "Egg_Group_1         721 non-null object\n",
      "Egg_Group_2         191 non-null object\n",
      "hasMegaEvolution    721 non-null bool\n",
      "Height_m            721 non-null float64\n",
      "Weight_kg           721 non-null float64\n",
      "Catch_Rate          721 non-null int64\n",
      "Body_Style          721 non-null object\n",
      "dtypes: bool(3), float64(3), int64(10), object(7)\n",
      "memory usage: 114.9+ KB\n"
     ]
    }
   ],
   "source": [
    "data.info()"
   ]
  },
  {
   "cell_type": "code",
   "execution_count": 131,
   "metadata": {
    "collapsed": true
   },
   "outputs": [
    {
     "name": "stderr",
     "output_type": "stream",
     "text": [
      "/usr/local/Cellar/jupyter/1.0.0_5/libexec/lib/python3.7/site-packages/ipykernel_launcher.py:2: SettingWithCopyWarning: \n",
      "A value is trying to be set on a copy of a slice from a DataFrame.\n",
      "Try using .loc[row_indexer,col_indexer] = value instead\n",
      "\n",
      "See the caveats in the documentation: http://pandas.pydata.org/pandas-docs/stable/user_guide/indexing.html#returning-a-view-versus-a-copy\n",
      "  \n",
      "/usr/local/Cellar/jupyter/1.0.0_5/libexec/lib/python3.7/site-packages/ipykernel_launcher.py:3: SettingWithCopyWarning: \n",
      "A value is trying to be set on a copy of a slice from a DataFrame.\n",
      "Try using .loc[row_indexer,col_indexer] = value instead\n",
      "\n",
      "See the caveats in the documentation: http://pandas.pydata.org/pandas-docs/stable/user_guide/indexing.html#returning-a-view-versus-a-copy\n",
      "  This is separate from the ipykernel package so we can avoid doing imports until\n",
      "/usr/local/Cellar/jupyter/1.0.0_5/libexec/lib/python3.7/site-packages/ipykernel_launcher.py:4: SettingWithCopyWarning: \n",
      "A value is trying to be set on a copy of a slice from a DataFrame.\n",
      "Try using .loc[row_indexer,col_indexer] = value instead\n",
      "\n",
      "See the caveats in the documentation: http://pandas.pydata.org/pandas-docs/stable/user_guide/indexing.html#returning-a-view-versus-a-copy\n",
      "  after removing the cwd from sys.path.\n",
      "/usr/local/Cellar/jupyter/1.0.0_5/libexec/lib/python3.7/site-packages/ipykernel_launcher.py:5: SettingWithCopyWarning: \n",
      "A value is trying to be set on a copy of a slice from a DataFrame.\n",
      "Try using .loc[row_indexer,col_indexer] = value instead\n",
      "\n",
      "See the caveats in the documentation: http://pandas.pydata.org/pandas-docs/stable/user_guide/indexing.html#returning-a-view-versus-a-copy\n",
      "  \"\"\"\n"
     ]
    }
   ],
   "source": [
    "for i in columns_freq1:\n",
    "    data_freq[i] = data_freq[i].apply(lambda x: x / 721)\n",
    "data_freq['Type_2'] = data_freq['Type_2'].apply(lambda x: x /350 )\n",
    "data_freq['Pr_Male'] = data_freq['Pr_Male'].apply(lambda x: x /644 )\n",
    "data_freq['Egg_Group_2'] = data_freq['Egg_Group_2'].apply(lambda x: x /191 )"
   ]
  },
  {
   "cell_type": "code",
   "execution_count": 132,
   "metadata": {
    "scrolled": true
   },
   "outputs": [
    {
     "data": {
      "text/html": [
       "<div>\n",
       "<style scoped>\n",
       "    .dataframe tbody tr th:only-of-type {\n",
       "        vertical-align: middle;\n",
       "    }\n",
       "\n",
       "    .dataframe tbody tr th {\n",
       "        vertical-align: top;\n",
       "    }\n",
       "\n",
       "    .dataframe thead th {\n",
       "        text-align: right;\n",
       "    }\n",
       "</style>\n",
       "<table border=\"1\" class=\"dataframe\">\n",
       "  <thead>\n",
       "    <tr style=\"text-align: right;\">\n",
       "      <th></th>\n",
       "      <th>Type_1</th>\n",
       "      <th>Type_2</th>\n",
       "      <th>Color</th>\n",
       "      <th>Pr_Male</th>\n",
       "      <th>Egg_Group_1</th>\n",
       "      <th>Egg_Group_2</th>\n",
       "      <th>Body_Style</th>\n",
       "    </tr>\n",
       "  </thead>\n",
       "  <tbody>\n",
       "    <tr>\n",
       "      <th>0</th>\n",
       "      <td>0.091540</td>\n",
       "      <td>0.088571</td>\n",
       "      <td>0.109570</td>\n",
       "      <td>0.156832</td>\n",
       "      <td>0.102635</td>\n",
       "      <td>0.167539</td>\n",
       "      <td>0.187240</td>\n",
       "    </tr>\n",
       "    <tr>\n",
       "      <th>1</th>\n",
       "      <td>0.091540</td>\n",
       "      <td>0.088571</td>\n",
       "      <td>0.109570</td>\n",
       "      <td>0.156832</td>\n",
       "      <td>0.102635</td>\n",
       "      <td>0.167539</td>\n",
       "      <td>0.187240</td>\n",
       "    </tr>\n",
       "    <tr>\n",
       "      <th>2</th>\n",
       "      <td>0.091540</td>\n",
       "      <td>0.088571</td>\n",
       "      <td>0.109570</td>\n",
       "      <td>0.156832</td>\n",
       "      <td>0.102635</td>\n",
       "      <td>0.167539</td>\n",
       "      <td>0.187240</td>\n",
       "    </tr>\n",
       "    <tr>\n",
       "      <th>3</th>\n",
       "      <td>0.130374</td>\n",
       "      <td>0.000000</td>\n",
       "      <td>0.104022</td>\n",
       "      <td>0.156832</td>\n",
       "      <td>0.102635</td>\n",
       "      <td>0.183246</td>\n",
       "      <td>0.219140</td>\n",
       "    </tr>\n",
       "    <tr>\n",
       "      <th>4</th>\n",
       "      <td>0.130374</td>\n",
       "      <td>0.000000</td>\n",
       "      <td>0.104022</td>\n",
       "      <td>0.156832</td>\n",
       "      <td>0.102635</td>\n",
       "      <td>0.183246</td>\n",
       "      <td>0.219140</td>\n",
       "    </tr>\n",
       "    <tr>\n",
       "      <th>...</th>\n",
       "      <td>...</td>\n",
       "      <td>...</td>\n",
       "      <td>...</td>\n",
       "      <td>...</td>\n",
       "      <td>...</td>\n",
       "      <td>...</td>\n",
       "      <td>...</td>\n",
       "    </tr>\n",
       "    <tr>\n",
       "      <th>716</th>\n",
       "      <td>0.077670</td>\n",
       "      <td>0.248571</td>\n",
       "      <td>0.104022</td>\n",
       "      <td>0.000000</td>\n",
       "      <td>0.101248</td>\n",
       "      <td>0.000000</td>\n",
       "      <td>0.087379</td>\n",
       "    </tr>\n",
       "    <tr>\n",
       "      <th>717</th>\n",
       "      <td>0.033287</td>\n",
       "      <td>0.085714</td>\n",
       "      <td>0.109570</td>\n",
       "      <td>0.000000</td>\n",
       "      <td>0.101248</td>\n",
       "      <td>0.000000</td>\n",
       "      <td>0.040222</td>\n",
       "    </tr>\n",
       "    <tr>\n",
       "      <th>718</th>\n",
       "      <td>0.056865</td>\n",
       "      <td>0.051429</td>\n",
       "      <td>0.056865</td>\n",
       "      <td>0.000000</td>\n",
       "      <td>0.101248</td>\n",
       "      <td>0.000000</td>\n",
       "      <td>0.054092</td>\n",
       "    </tr>\n",
       "    <tr>\n",
       "      <th>719</th>\n",
       "      <td>0.130374</td>\n",
       "      <td>0.034286</td>\n",
       "      <td>0.090153</td>\n",
       "      <td>0.000000</td>\n",
       "      <td>0.101248</td>\n",
       "      <td>0.000000</td>\n",
       "      <td>0.047157</td>\n",
       "    </tr>\n",
       "    <tr>\n",
       "      <th>720</th>\n",
       "      <td>0.130374</td>\n",
       "      <td>0.037143</td>\n",
       "      <td>0.152566</td>\n",
       "      <td>0.000000</td>\n",
       "      <td>0.101248</td>\n",
       "      <td>0.000000</td>\n",
       "      <td>0.187240</td>\n",
       "    </tr>\n",
       "  </tbody>\n",
       "</table>\n",
       "<p>721 rows × 7 columns</p>\n",
       "</div>"
      ],
      "text/plain": [
       "       Type_1    Type_2     Color   Pr_Male  Egg_Group_1  Egg_Group_2  \\\n",
       "0    0.091540  0.088571  0.109570  0.156832     0.102635     0.167539   \n",
       "1    0.091540  0.088571  0.109570  0.156832     0.102635     0.167539   \n",
       "2    0.091540  0.088571  0.109570  0.156832     0.102635     0.167539   \n",
       "3    0.130374  0.000000  0.104022  0.156832     0.102635     0.183246   \n",
       "4    0.130374  0.000000  0.104022  0.156832     0.102635     0.183246   \n",
       "..        ...       ...       ...       ...          ...          ...   \n",
       "716  0.077670  0.248571  0.104022  0.000000     0.101248     0.000000   \n",
       "717  0.033287  0.085714  0.109570  0.000000     0.101248     0.000000   \n",
       "718  0.056865  0.051429  0.056865  0.000000     0.101248     0.000000   \n",
       "719  0.130374  0.034286  0.090153  0.000000     0.101248     0.000000   \n",
       "720  0.130374  0.037143  0.152566  0.000000     0.101248     0.000000   \n",
       "\n",
       "     Body_Style  \n",
       "0      0.187240  \n",
       "1      0.187240  \n",
       "2      0.187240  \n",
       "3      0.219140  \n",
       "4      0.219140  \n",
       "..          ...  \n",
       "716    0.087379  \n",
       "717    0.040222  \n",
       "718    0.054092  \n",
       "719    0.047157  \n",
       "720    0.187240  \n",
       "\n",
       "[721 rows x 7 columns]"
      ]
     },
     "execution_count": 132,
     "metadata": {},
     "output_type": "execute_result"
    }
   ],
   "source": [
    "#THIS IS THE CATEGORICAL DATA"
   ]
  },
  {
   "cell_type": "markdown",
   "metadata": {},
   "source": [
    "## 3.3. Other data"
   ]
  },
  {
   "cell_type": "code",
   "execution_count": null,
   "metadata": {},
   "outputs": [],
   "source": [
    "other = ['Generation', 'isLegendary', 'hasGender', 'hasMegaEvolution']"
   ]
  },
  {
   "cell_type": "code",
   "execution_count": 133,
   "metadata": {},
   "outputs": [],
   "source": [
    "data_other = data[other]"
   ]
  },
  {
   "cell_type": "code",
   "execution_count": 138,
   "metadata": {
    "collapsed": true
   },
   "outputs": [
    {
     "name": "stderr",
     "output_type": "stream",
     "text": [
      "/usr/local/Cellar/jupyter/1.0.0_5/libexec/lib/python3.7/site-packages/ipykernel_launcher.py:1: SettingWithCopyWarning: \n",
      "A value is trying to be set on a copy of a slice from a DataFrame.\n",
      "Try using .loc[row_indexer,col_indexer] = value instead\n",
      "\n",
      "See the caveats in the documentation: http://pandas.pydata.org/pandas-docs/stable/user_guide/indexing.html#returning-a-view-versus-a-copy\n",
      "  \"\"\"Entry point for launching an IPython kernel.\n",
      "/usr/local/Cellar/jupyter/1.0.0_5/libexec/lib/python3.7/site-packages/ipykernel_launcher.py:2: SettingWithCopyWarning: \n",
      "A value is trying to be set on a copy of a slice from a DataFrame.\n",
      "Try using .loc[row_indexer,col_indexer] = value instead\n",
      "\n",
      "See the caveats in the documentation: http://pandas.pydata.org/pandas-docs/stable/user_guide/indexing.html#returning-a-view-versus-a-copy\n",
      "  \n",
      "/usr/local/Cellar/jupyter/1.0.0_5/libexec/lib/python3.7/site-packages/ipykernel_launcher.py:3: SettingWithCopyWarning: \n",
      "A value is trying to be set on a copy of a slice from a DataFrame.\n",
      "Try using .loc[row_indexer,col_indexer] = value instead\n",
      "\n",
      "See the caveats in the documentation: http://pandas.pydata.org/pandas-docs/stable/user_guide/indexing.html#returning-a-view-versus-a-copy\n",
      "  This is separate from the ipykernel package so we can avoid doing imports until\n"
     ]
    }
   ],
   "source": [
    "data_other['isLegendary'] = data['isLegendary'].astype(int)\n",
    "data_other['hasGender'] = data['hasGender'].astype(int)\n",
    "data_other['hasMegaEvolution'] = data['hasMegaEvolution'].astype(int)\n"
   ]
  },
  {
   "cell_type": "markdown",
   "metadata": {},
   "source": [
    "## 3.4. Concatenating all the preprocessed subsets"
   ]
  },
  {
   "cell_type": "code",
   "execution_count": 141,
   "metadata": {},
   "outputs": [],
   "source": [
    "preprocess = pd.concat([data_int, data_freq, data_other], axis=1)"
   ]
  },
  {
   "cell_type": "code",
   "execution_count": 147,
   "metadata": {},
   "outputs": [
    {
     "data": {
      "text/plain": [
       "Index(['Number', 'Name', 'Type_1', 'Type_2', 'Total', 'HP', 'Attack',\n",
       "       'Defense', 'Sp_Atk', 'Sp_Def', 'Speed', 'Generation', 'isLegendary',\n",
       "       'Color', 'hasGender', 'Pr_Male', 'Egg_Group_1', 'Egg_Group_2',\n",
       "       'hasMegaEvolution', 'Height_m', 'Weight_kg', 'Catch_Rate',\n",
       "       'Body_Style'],\n",
       "      dtype='object')"
      ]
     },
     "execution_count": 147,
     "metadata": {},
     "output_type": "execute_result"
    }
   ],
   "source": [
    "data.columns"
   ]
  },
  {
   "cell_type": "code",
   "execution_count": 148,
   "metadata": {},
   "outputs": [],
   "source": [
    "final_col = ['Type_1', 'Type_2', 'Total', 'HP', 'Attack',\n",
    "       'Defense', 'Sp_Atk', 'Sp_Def', 'Speed', 'Generation', 'isLegendary',\n",
    "       'Color', 'hasGender', 'Pr_Male', 'Egg_Group_1', 'Egg_Group_2',\n",
    "       'hasMegaEvolution', 'Height_m', 'Weight_kg', 'Catch_Rate',\n",
    "       'Body_Style']"
   ]
  },
  {
   "cell_type": "code",
   "execution_count": 149,
   "metadata": {
    "scrolled": true
   },
   "outputs": [],
   "source": [
    "final = preprocess[final_col]"
   ]
  },
  {
   "cell_type": "code",
   "execution_count": 153,
   "metadata": {},
   "outputs": [],
   "source": [
    "final.to_csv('preprocessed.csv')"
   ]
  }
 ],
 "metadata": {
  "kernelspec": {
   "display_name": "zoranapy",
   "language": "python",
   "name": "zoranapy"
  },
  "language_info": {
   "codemirror_mode": {
    "name": "ipython",
    "version": 3
   },
   "file_extension": ".py",
   "mimetype": "text/x-python",
   "name": "python",
   "nbconvert_exporter": "python",
   "pygments_lexer": "ipython3",
   "version": "3.7.4"
  }
 },
 "nbformat": 4,
 "nbformat_minor": 2
}
