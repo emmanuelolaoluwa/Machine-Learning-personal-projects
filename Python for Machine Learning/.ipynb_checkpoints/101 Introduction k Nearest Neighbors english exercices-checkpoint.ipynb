{
 "cells": [
  {
   "cell_type": "markdown",
   "metadata": {},
   "source": [
    "# Introduction of the k nearest neighbours"
   ]
  },
  {
   "cell_type": "markdown",
   "metadata": {},
   "source": [
    "## Dataset"
   ]
  },
  {
   "cell_type": "markdown",
   "metadata": {},
   "source": [
    "+ Read the file 'paris_airbnb.csv' in a Dataframe named paris_listings.\n",
    "+ Display the first line of paris_listings.\n"
   ]
  },
  {
   "cell_type": "code",
   "execution_count": 2,
   "metadata": {},
   "outputs": [],
   "source": [
    "# DataFrame.iloc[] to return a line from the desired position"
   ]
  },
  {
   "cell_type": "code",
   "execution_count": 1,
   "metadata": {},
   "outputs": [
    {
     "name": "stdout",
     "output_type": "stream",
     "text": [
      "host_response_rate                 100%\n",
      "host_acceptance_rate                NaN\n",
      "host_listings_count                   1\n",
      "latitude                        48.8335\n",
      "longitude                       2.31852\n",
      "city                              Paris\n",
      "zipcode                           75014\n",
      "state                     Île-de-France\n",
      "accommodates                          2\n",
      "room_type               Entire home/apt\n",
      "bedrooms                              0\n",
      "bathrooms                             1\n",
      "beds                                  0\n",
      "price                            $75.00\n",
      "cleaning_fee                     $50.00\n",
      "security_deposit                  $0.00\n",
      "minimum_nights                        3\n",
      "maximum_nights                       15\n",
      "number_of_reviews                     8\n",
      "Name: 0, dtype: object\n"
     ]
    }
   ],
   "source": [
    "import pandas as pd\n",
    "\n",
    "paris_listings = pd.read_csv('../data/paris_airbnb.csv')\n",
    "print(paris_listings.iloc[0])"
   ]
  },
  {
   "cell_type": "markdown",
   "metadata": {},
   "source": [
    "## Euclidean Distance"
   ]
  },
  {
   "cell_type": "markdown",
   "metadata": {},
   "source": [
    "+ Calculate the Euclidean distance between our accommodation which can accommodate 3 people and the first accommodation of the dataFrame paris_listings.\n",
    "+ Assign the result to the first_distance variable and display the result."
   ]
  },
  {
   "cell_type": "code",
   "execution_count": 11,
   "metadata": {},
   "outputs": [],
   "source": [
    "# numpy.abs()  to calculate the absolute value"
   ]
  },
  {
   "cell_type": "markdown",
   "metadata": {},
   "source": [
    "## Calculate the distance for all observations"
   ]
  },
  {
   "cell_type": "markdown",
   "metadata": {},
   "source": [
    "+ Calculate the distance between each value in the'accommodates' column of paris_listings and value 3 (which is the number of people that can accommodate our accommodation):\n",
    " - Use the **apply** method to calculate the absolute value between each value of'accommodates' and 3 and return a new Series object containing the distance values.\n",
    "+ Assign the distance values to the'distance' column of the dataframe.\n",
    "+ Use the Series value_counts() method and display the count of each unique value in the'distance' column."
   ]
  },
  {
   "cell_type": "code",
   "execution_count": 18,
   "metadata": {},
   "outputs": [],
   "source": [
    "# df['accommodates'].apply(lambda x: x + 2) returns a new Series object \n",
    "# where each original value in the \"accommoates\" column is 2 more"
   ]
  },
  {
   "cell_type": "markdown",
   "metadata": {},
   "source": [
    "## Randomize and sort"
   ]
  },
  {
   "cell_type": "markdown",
   "metadata": {},
   "source": [
    "+ We start by placing ourselves on the same seed: np.random.seed(1)\n",
    "+ Randomize the order of the betting lines_listings:\n",
    " - Use the np.random.permutation() function to return a NumPy array of mixed index values.\n",
    " - Use the method on Dataframe loc[] to return a new DataFrame containing the mixed order.\n",
    " - Assign the new Dataframe again to paris_listings.\n",
    "+ After randomizing, sort paris_listings on the'distance' column with the method sort_values().\n",
    "+ Display the first 10 values in the'price' column."
   ]
  },
  {
   "cell_type": "code",
   "execution_count": 19,
   "metadata": {},
   "outputs": [],
   "source": [
    "# np.random.permutation(len(paris_listings))"
   ]
  },
  {
   "cell_type": "markdown",
   "metadata": {},
   "source": [
    "## Average price"
   ]
  },
  {
   "cell_type": "markdown",
   "metadata": {},
   "source": [
    "+ Delete commas and dollar signs from the'price' column:\n",
    " - Use the str accessor so that we can apply the string method followed by the character replacement method to each value in the previous column: stripped_commas = paris_listings['price'].str.replace(',',''')\n",
    " - Repeat the operation to delete the $ signs.\n",
    "+ Convert the new Series object containing the cleaned values into a float and assign the result to the'price' column of the paris_listings dataframe.\n",
    "+ Calculate the average of the 5 values in the'price' column and assign the result to the mean_price variable.\n",
    "+ Display the result."
   ]
  },
  {
   "cell_type": "code",
   "execution_count": 21,
   "metadata": {},
   "outputs": [],
   "source": [
    "# .mean() to calculate the average of a Series object"
   ]
  },
  {
   "cell_type": "markdown",
   "metadata": {},
   "source": [
    "## Function to make predictions"
   ]
  },
  {
   "cell_type": "markdown",
   "metadata": {},
   "source": [
    "+ Write a function called predict_price that uses the Machine Learning technique of the nearest k neighbours to calculate the suggested price for any value of the number of people the dwelling can accommodate. \n",
    "+ This function must:\n",
    " - Take a single parameter, new_listing, the number of people that can accommodate the accommodation. \n",
    " - I also added code that assigns paris_listings to a new DataFrame named temp_df. We use the pandas.DataFrame.copy() method so that the previous dataframe is assigned to the variable temp_df, instead of just referring to paris_listings.\n",
    " - Calculate the distance between each value in the'accommodates' column and the new_listing value passed as a function parameter. Assign the resulting Series object to the'distance' column of temp_df.\n",
    " - Sort temp_df on the distance column and select the first 5 values from the price column. Do not randomize the order of temp_df.\n",
    " - Calculate the average of these 5 values and return this value as an output of the predict_price function.\n",
    "+ Use the predict_price function to suggest a price for a suitable accommodation:\n",
    " - 1 person, assign this result to the acc_one variable.\n",
    " - 2 persons, assign this result to the variable acc_two.\n",
    " - 4 persons, assign this result to the acc_four variable.\n"
   ]
  },
  {
   "cell_type": "code",
   "execution_count": 25,
   "metadata": {},
   "outputs": [],
   "source": [
    "def predict_price(new_listing):\n",
    "    temp_df = paris_listings.copy()\n",
    "    # Complete.\n",
    "    return(predicted_price)"
   ]
  }
 ],
 "metadata": {
  "kernelspec": {
   "display_name": "Python 3",
   "language": "python",
   "name": "python3"
  },
  "language_info": {
   "codemirror_mode": {
    "name": "ipython",
    "version": 3
   },
   "file_extension": ".py",
   "mimetype": "text/x-python",
   "name": "python",
   "nbconvert_exporter": "python",
   "pygments_lexer": "ipython3",
   "version": "3.8.0"
  }
 },
 "nbformat": 4,
 "nbformat_minor": 2
}
