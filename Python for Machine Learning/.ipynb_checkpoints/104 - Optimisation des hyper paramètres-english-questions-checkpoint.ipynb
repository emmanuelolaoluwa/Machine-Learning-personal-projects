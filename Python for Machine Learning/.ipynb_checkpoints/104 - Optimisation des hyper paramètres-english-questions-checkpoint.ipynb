{
 "cells": [
  {
   "cell_type": "markdown",
   "metadata": {},
   "source": [
    "# Optimization of hyper parameters"
   ]
  },
  {
   "cell_type": "markdown",
   "metadata": {},
   "source": [
    "## Summary"
   ]
  },
  {
   "cell_type": "markdown",
   "metadata": {},
   "source": [
    "+ Read paris_airbnb_train.csv in a Dataframe and assign it to the train_df variable.\n",
    "+ Read paris_airbnb_test.csv in a Dataframe and assign it to the test_df variable."
   ]
  },
  {
   "cell_type": "code",
   "execution_count": 29,
   "metadata": {},
   "outputs": [],
   "source": [
    "import pandas as pd\n",
    "\n",
    "train_df = pd.read_csv('paris_airbnb_train.csv')\n",
    "test_df = pd.read_csv('paris_airbnb_test.csv')"
   ]
  },
  {
   "cell_type": "markdown",
   "metadata": {},
   "source": [
    "## Hyper parametric optimization"
   ]
  },
  {
   "cell_type": "markdown",
   "metadata": {},
   "source": [
    "+ Create a list containing the integer values 1, 2, 3, 4, and 5, in this order and assign it to the hyper_param variable.\n",
    "+ Create an empty list and assign it to the mse_values variable.\n",
    "+ Use a for loop to iterate on all hyper_param values and for each iteration:\n",
    " - Instanciate an object of the class KNeighborsRegressor with the following parameters: n_neighbors: the value corresponding to the iterative variable and algorithm: raw  \n",
    " - Adapt the model of the k nearest neighbours to the following train_df columns:'accommodates','bedrooms','bathrooms' and'number_of_reviews'.\n",
    " - Use the trained model to make predictions on the same test_df columns and assign the result to the predictions variable.\n",
    " - Use the mean_squared_error function to calculate the MSE value between the Numpy predictions table and the test_df price column.\n",
    " - Add the MSE value to the mse_values list.\n",
    "+ Display the mse_values result which contains all MSE values."
   ]
  },
  {
   "cell_type": "code",
   "execution_count": null,
   "metadata": {},
   "outputs": [],
   "source": []
  },
  {
   "cell_type": "markdown",
   "metadata": {},
   "source": [
    "## Expand the search grid"
   ]
  },
  {
   "cell_type": "markdown",
   "metadata": {},
   "source": [
    "+ Change the list of values of hyper parameters, hyper_params, so it will go from 1 to 60.\n",
    "+ Create an empty list and assign it to the mse_values variable.\n",
    "+ Use a for loop to iterate through hyper_params and for each iteration:\n",
    " - Instanciate an object of the class KNeighborsRegressor with the following parameters: n_neighbors: the value of the current iterative variable and algorithm: raw\n",
    " - Adapt the model of the k nearest neighbours to the following columns of the dataframe train_df:accommodates, bedrooms, bathrooms and number_of_reviews\n",
    " - Use the trained model to make predictions on the same test_df columns and assign the results to the predictions variable.\n",
    " - Use the mean_squared_error function to calculate the MSE value between the Numpy predictions table and the test_df price column.\n",
    " - Add the MSE value to the mse_values list.\n",
    "+ Display the result mse_values."
   ]
  },
  {
   "cell_type": "code",
   "execution_count": null,
   "metadata": {},
   "outputs": [],
   "source": []
  },
  {
   "cell_type": "markdown",
   "metadata": {},
   "source": [
    "## View the values of the hyper parameters"
   ]
  },
  {
   "cell_type": "markdown",
   "metadata": {},
   "source": [
    "+ Use the scatter() method of the matplotlib.pyplot library to generate a graph with:\n",
    " - hyper_params on the x-axis,\n",
    " - mse_values on the y-axis.\n",
    "+ Use plt.show() to display it."
   ]
  },
  {
   "cell_type": "code",
   "execution_count": null,
   "metadata": {},
   "outputs": [],
   "source": []
  },
  {
   "cell_type": "markdown",
   "metadata": {},
   "source": [
    "## Vary the characteristics and hyper parameters"
   ]
  },
  {
   "cell_type": "markdown",
   "metadata": {},
   "source": [
    "+ Vary k from 1 to 100...\n",
    "+ Use a for loop to iterate through hyper_params and for each iteration:\n",
    " - Instanciate an object of the KNeighborsRegressor class with the same parameters\n",
    " - Adapt the model to all columns except the'price' column of train_df\n",
    " - Use the trained model to make predictions on the same test_df columns and assign the results to predictions.\n",
    " - Use the mean_squared_error function to calculate the MSE value between the prediction table and the test_df price column.\n",
    " - Add the MSE value to the mse_values list.\n",
    "+ Use the scatter() method of matplotlib.pyplot to generate a graph:\n",
    " - hyper_params on the x-axis,\n",
    "+ Use plt.show() to display it."
   ]
  },
  {
   "cell_type": "code",
   "execution_count": null,
   "metadata": {},
   "outputs": [],
   "source": []
  },
  {
   "cell_type": "markdown",
   "metadata": {},
   "source": [
    "## Practice workflow"
   ]
  },
  {
   "cell_type": "markdown",
   "metadata": {},
   "source": [
    "+ By using only the'accommodates' and'bathrooms' columns:\n",
    " - Train a model for each k value between 1 and 100 using the learning data.\n",
    " - Use each model to make predictions on the test set (using only the'accommodates' and'bathrooms' columns).\n",
    " - Calculate the MSE value of each model by comparing each set of predictions with the actual price values.\n",
    " - Find the k-value with the lowest MSE value.\n",
    " - Create a dictionary named two_hp_mse that contains a key / value pair. key' is the value of k that resulted in the lowest MSE value and'value' is the corresponding MSE value\n",
    "+ Repeat this procedure using only the'accommodates','bathrooms' and'bedrooms' columns:\n",
    " - Create a dictionary named three_hp_mse that contains a key / value pair. key' is the value of k that resulted in the lowest MSE value and'value' is the corresponding MSE value\n",
    "+ Display the results two_hp_mse and three_hp_mse."
   ]
  },
  {
   "cell_type": "code",
   "execution_count": 1,
   "metadata": {},
   "outputs": [],
   "source": [
    "# for k, mse in enumerate(two_mse_values):"
   ]
  },
  {
   "cell_type": "code",
   "execution_count": null,
   "metadata": {},
   "outputs": [],
   "source": []
  }
 ],
 "metadata": {
  "kernelspec": {
   "display_name": "Python 3",
   "language": "python",
   "name": "python3"
  },
  "language_info": {
   "codemirror_mode": {
    "name": "ipython",
    "version": 3
   },
   "file_extension": ".py",
   "mimetype": "text/x-python",
   "name": "python",
   "nbconvert_exporter": "python",
   "pygments_lexer": "ipython3",
   "version": "3.7.4"
  }
 },
 "nbformat": 4,
 "nbformat_minor": 2
}
