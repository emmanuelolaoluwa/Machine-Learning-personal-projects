{
 "cells": [
  {
   "cell_type": "markdown",
   "metadata": {},
   "source": [
    "# Introduction of the k nearest neighbours"
   ]
  },
  {
   "cell_type": "markdown",
   "metadata": {},
   "source": [
    "## Dataset"
   ]
  },
  {
   "cell_type": "markdown",
   "metadata": {},
   "source": [
    "+ Read the file 'paris_airbnb.csv' in a Dataframe named paris_listings.\n",
    "+ Display the first line of paris_listings.\n"
   ]
  },
  {
   "cell_type": "code",
   "execution_count": 2,
   "metadata": {},
   "outputs": [],
   "source": [
    "# DataFrame.iloc[] to return a line from the desired position"
   ]
  },
  {
   "cell_type": "code",
   "execution_count": 4,
   "metadata": {},
   "outputs": [
    {
     "name": "stdout",
     "output_type": "stream",
     "text": [
      "host_response_rate                 100%\n",
      "host_acceptance_rate                NaN\n",
      "host_listings_count                   1\n",
      "latitude                        48.8335\n",
      "longitude                       2.31852\n",
      "city                              Paris\n",
      "zipcode                           75014\n",
      "state                     Île-de-France\n",
      "accommodates                          2\n",
      "room_type               Entire home/apt\n",
      "bedrooms                              0\n",
      "bathrooms                             1\n",
      "beds                                  0\n",
      "price                            $75.00\n",
      "cleaning_fee                     $50.00\n",
      "security_deposit                  $0.00\n",
      "minimum_nights                        3\n",
      "maximum_nights                       15\n",
      "number_of_reviews                     8\n",
      "Name: 0, dtype: object\n"
     ]
    }
   ],
   "source": [
    "import pandas as pd\n",
    "paris_listings = pd.read_csv('paris_airbnb.csv')\n",
    "print(paris_listings.iloc[0])"
   ]
  },
  {
   "cell_type": "markdown",
   "metadata": {},
   "source": [
    "## Euclidean Distance"
   ]
  },
  {
   "cell_type": "markdown",
   "metadata": {},
   "source": [
    "+ Calculate the Euclidean distance between our accommodation which can accommodate 3 people and the first accommodation of the dataFrame paris_listings.\n",
    "+ Assign the result to the first_distance variable and display the result."
   ]
  },
  {
   "cell_type": "code",
   "execution_count": 35,
   "metadata": {},
   "outputs": [
    {
     "data": {
      "text/plain": [
       "1.0"
      ]
     },
     "execution_count": 35,
     "metadata": {},
     "output_type": "execute_result"
    }
   ],
   "source": [
    "# numpy.abs()  to calculate the absolute value\n",
    "from scipy.spatial import distance\n",
    "first_room = paris_listings.iloc[0]['accommodates']\n",
    "living3 = paris_listings.iloc[:]['accommodates'][3]\n",
    "\n",
    "ED = distance.euclidean(first_room, living3)\n",
    "ED"
   ]
  },
  {
   "cell_type": "code",
   "execution_count": null,
   "metadata": {},
   "outputs": [],
   "source": []
  },
  {
   "cell_type": "code",
   "execution_count": null,
   "metadata": {},
   "outputs": [],
   "source": []
  },
  {
   "cell_type": "markdown",
   "metadata": {},
   "source": [
    "## Calculate the distance for all observations"
   ]
  },
  {
   "cell_type": "markdown",
   "metadata": {},
   "source": [
    "+ Calculate the distance between each value in the'accommodates' column of paris_listings and value 3 (which is the number of people that can accommodate our accommodation):\n",
    " - Use the **apply** method to calculate the absolute value between each value of'accommodates' and 3 and return a new Series object containing the distance values.\n",
    "+ Assign the distance values to the'distance' column of the dataframe.\n",
    "+ Use the Series value_counts() method and display the count of each unique value in the'distance' column."
   ]
  },
  {
   "cell_type": "code",
   "execution_count": 40,
   "metadata": {},
   "outputs": [
    {
     "data": {
      "text/plain": [
       "0       1\n",
       "1       1\n",
       "2       1\n",
       "3       0\n",
       "4       1\n",
       "5       1\n",
       "6       1\n",
       "7       0\n",
       "8       1\n",
       "9       1\n",
       "10      3\n",
       "11      1\n",
       "12      1\n",
       "13      0\n",
       "14      0\n",
       "15      1\n",
       "16      1\n",
       "17      1\n",
       "18      0\n",
       "19      2\n",
       "20      1\n",
       "21      1\n",
       "22      1\n",
       "23      1\n",
       "24      0\n",
       "25      2\n",
       "26      1\n",
       "27      1\n",
       "28      1\n",
       "29      0\n",
       "       ..\n",
       "7970    1\n",
       "7971    5\n",
       "7972    1\n",
       "7973    1\n",
       "7974    1\n",
       "7975    1\n",
       "7976    2\n",
       "7977    1\n",
       "7978    2\n",
       "7979    1\n",
       "7980    1\n",
       "7981    1\n",
       "7982    1\n",
       "7983    1\n",
       "7984    2\n",
       "7985    1\n",
       "7986    2\n",
       "7987    1\n",
       "7988    1\n",
       "7989    0\n",
       "7990    1\n",
       "7991    1\n",
       "7992    1\n",
       "7993    3\n",
       "7994    1\n",
       "7995    1\n",
       "7996    1\n",
       "7997    1\n",
       "7998    1\n",
       "7999    3\n",
       "Name: distance, Length: 8000, dtype: int64"
      ]
     },
     "execution_count": 40,
     "metadata": {},
     "output_type": "execute_result"
    }
   ],
   "source": [
    "# df['accommodates'].apply(lambda x: x + 2) returns a new Series object \n",
    "# where each original value in the \"accommoates\" column is 2 more\n",
    "import numpy as np\n",
    "temp_df = paris_listings.copy()\n",
    "temp_df['distance'] = temp_df['accommodates'].apply(lambda x : np.abs(x - 3))\n",
    "temp_df['distance']"
   ]
  },
  {
   "cell_type": "markdown",
   "metadata": {},
   "source": [
    "## Randomize and sort"
   ]
  },
  {
   "cell_type": "markdown",
   "metadata": {},
   "source": [
    "+ We start by placing ourselves on the same seed: np.random.seed(1)\n",
    "+ Randomize the order of the betting lines_listings:\n",
    " - Use the np.random.permutation() function to return a NumPy array of mixed index values.\n",
    " - Use the method on Dataframe loc[] to return a new DataFrame containing the mixed order.\n",
    " - Assign the new Dataframe again to paris_listings.\n",
    "+ After randomizing, sort paris_listings on the'distance' column with the method sort_values().\n",
    "+ Display the first 10 values in the'price' column."
   ]
  },
  {
   "cell_type": "code",
   "execution_count": 19,
   "metadata": {},
   "outputs": [],
   "source": [
    "# np.random.permutation(len(paris_listings))"
   ]
  },
  {
   "cell_type": "markdown",
   "metadata": {},
   "source": [
    "## Average price"
   ]
  },
  {
   "cell_type": "markdown",
   "metadata": {},
   "source": [
    "+ Delete commas and dollar signs from the'price' column:\n",
    " - Use the str accessor so that we can apply the string method followed by the character replacement method to each value in the previous column: stripped_commas = paris_listings['price'].str.replace(',',''')\n",
    " - Repeat the operation to delete the $ signs.\n",
    "+ Convert the new Series object containing the cleaned values into a float and assign the result to the'price' column of the paris_listings dataframe.\n",
    "+ Calculate the average of the 5 values in the'price' column and assign the result to the mean_price variable.\n",
    "+ Display the result."
   ]
  },
  {
   "cell_type": "code",
   "execution_count": 21,
   "metadata": {},
   "outputs": [],
   "source": [
    "# .mean() to calculate the average of a Series object"
   ]
  },
  {
   "cell_type": "markdown",
   "metadata": {},
   "source": [
    "## Function to make predictions"
   ]
  },
  {
   "cell_type": "markdown",
   "metadata": {},
   "source": [
    "+ Write a function called predict_price that uses the Machine Learning technique of the nearest k neighbours to calculate the suggested price for any value of the number of people the dwelling can accommodate. \n",
    "+ This function must:\n",
    " - Take a single parameter, new_listing, the number of people that can accommodate the accommodation. \n",
    " - I also added code that assigns paris_listings to a new DataFrame named temp_df. We use the pandas.DataFrame.copy() method so that the previous dataframe is assigned to the variable temp_df, instead of just referring to paris_listings.\n",
    " - Calculate the distance between each value in the'accommodates' column and the new_listing value passed as a function parameter. Assign the resulting Series object to the'distance' column of temp_df.\n",
    " - Sort temp_df on the distance column and select the first 5 values from the price column. Do not randomize the order of temp_df.\n",
    " - Calculate the average of these 5 values and return this value as an output of the predict_price function.\n",
    "+ Use the predict_price function to suggest a price for a suitable accommodation:\n",
    " - 1 person, assign this result to the acc_one variable.\n",
    " - 2 persons, assign this result to the variable acc_two.\n",
    " - 4 persons, assign this result to the acc_four variable.\n"
   ]
  },
  {
   "cell_type": "code",
   "execution_count": 25,
   "metadata": {},
   "outputs": [],
   "source": [
    "def predict_price(new_listing):\n",
    "    temp_df = paris_listings.copy()\n",
    "    # Complete.\n",
    "    return(predicted_price)"
   ]
  }
 ],
 "metadata": {
  "kernelspec": {
   "display_name": "Python 3",
   "language": "python",
   "name": "python3"
  },
  "language_info": {
   "codemirror_mode": {
    "name": "ipython",
    "version": 3
   },
   "file_extension": ".py",
   "mimetype": "text/x-python",
   "name": "python",
   "nbconvert_exporter": "python",
   "pygments_lexer": "ipython3",
   "version": "3.7.3"
  }
 },
 "nbformat": 4,
 "nbformat_minor": 4
}
