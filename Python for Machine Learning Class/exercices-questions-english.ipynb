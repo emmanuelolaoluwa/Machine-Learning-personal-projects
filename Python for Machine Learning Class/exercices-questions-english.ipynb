{
 "cells": [
  {
   "cell_type": "markdown",
   "metadata": {},
   "source": [
    "\n",
    "<br>\n",
    "You are climbing a stair case.<br>\n",
    "It takes n steps to reach to the top.<br>\n",
    "Each time you can either climb 1 or 2 steps.<br>\n",
    "In how many distinct ways can you climb to the top?<br>\n",
    "Note: Given n will be a positive integer.<br>\n"
   ]
  },
  {
   "cell_type": "markdown",
   "metadata": {},
   "source": [
    "O(n) space"
   ]
  },
  {
   "cell_type": "code",
   "execution_count": null,
   "metadata": {},
   "outputs": [],
   "source": [
    "def fib(n):\n",
    "    if n <= 1:\n",
    "        return n\n",
    "    return fib (n-1) + fib(n-2)"
   ]
  },
  {
   "cell_type": "markdown",
   "metadata": {},
   "source": [
    "\n",
    "<br>\n",
    "Problem<br>\n",
    "Given a value N, if we want to make change for N cents, and we have infinite supply of each of <br>\n",
    "S = { S1, S2, .. , Sm} valued //coins, how many ways can we make the change? <br>\n",
    "The order of coins doesn't matter.<br>\n",
    "For example, for N = 4 and S = [1, 2, 3], there are four solutions: <br>\n",
    "[1, 1, 1, 1], [1, 1, 2], [2, 2], [1, 3]. <br>\n",
    "So output should be 4. <br>\n",
    "For N = 10 and S = [2, 5, 3, 6], there are five solutions: <br>\n",
    "[2, 2, 2, 2, 2], [2, 2, 3, 3], [2, 2, 6], [2, 3, 5] and [5, 5]. <br>\n",
    "So the output should be 5.<br>\n"
   ]
  },
  {
   "cell_type": "code",
   "execution_count": null,
   "metadata": {},
   "outputs": [],
   "source": []
  },
  {
   "cell_type": "markdown",
   "metadata": {},
   "source": [
    "\n",
    "<br>\n",
    "Given an integer array with all positive numbers and no duplicates,<br>\n",
    "find the number of possible combinations that<br>\n",
    "add up to a positive integer target.<br>\n",
    "Example:<br>\n",
    "nums = [1, 2, 3]<br>\n",
    "target = 4<br>\n",
    "The possible combination ways are:<br>\n",
    "(1, 1, 1, 1)<br>\n",
    "(1, 1, 2)<br>\n",
    "(1, 2, 1)<br>\n",
    "(1, 3)<br>\n",
    "(2, 1, 1)<br>\n",
    "(2, 2)<br>\n",
    "(3, 1)<br>\n",
    "Note that different sequences are counted as different combinations.<br>\n",
    "Therefore the output is 7.<br>\n",
    "Follow up:<br>\n",
    "What if negative numbers are allowed in the given array?<br>\n",
    "How does it change the problem?<br>\n",
    "What limitation we need to add to the question to allow negative numbers?<br>\n"
   ]
  },
  {
   "cell_type": "code",
   "execution_count": null,
   "metadata": {},
   "outputs": [],
   "source": []
  },
  {
   "cell_type": "markdown",
   "metadata": {},
   "source": [
    "EDIT: The above solution is top-down. How about a bottom-up one?"
   ]
  },
  {
   "cell_type": "code",
   "execution_count": null,
   "metadata": {},
   "outputs": [],
   "source": []
  },
  {
   "cell_type": "markdown",
   "metadata": {},
   "source": [
    "\n",
    "<br>\n",
    "Hosoya triangle (originally Fibonacci triangle) is a triangular arrangement<br>\n",
    "of numbers, where if you take any number it is the sum of 2 numbers above.<br>\n",
    "First line is always 1, and second line is always {1     1}.<br>\n",
    "This printHosoya function takes argument n which is the height of the triangle<br>\n",
    "(number of lines).<br>\n",
    "For example:<br>\n",
    "printHosoya( 6 ) would return:<br>\n",
    "1 <br>\n",
    "1 1 <br>\n",
    "2 1 2 <br>\n",
    "3 2 2 3 <br>\n",
    "5 3 4 3 5 <br>\n",
    "8 5 6 6 5 8<br>\n",
    "The complexity is O(n^3).<br>\n"
   ]
  },
  {
   "cell_type": "code",
   "execution_count": null,
   "metadata": {},
   "outputs": [],
   "source": []
  },
  {
   "cell_type": "markdown",
   "metadata": {},
   "source": [
    "\n",
    "<br>\n",
    "You are a professional robber planning to rob houses along a street.<br>\n",
    "Each house has a certain amount of money stashed,<br>\n",
    "the only constraint stopping you from robbing each of them<br>\n",
    "is that adjacent houses have security system connected and<br>\n",
    "it will automatically contact the police if two adjacent houses<br>\n",
    "were broken into on the same night.<br>\n",
    "Given a list of non-negative integers representing the amount of money<br>\n",
    "of each house, determine the maximum amount of money you<br>\n",
    "can rob tonight without alerting the police.<br>\n"
   ]
  },
  {
   "cell_type": "code",
   "execution_count": null,
   "metadata": {},
   "outputs": [],
   "source": []
  },
  {
   "cell_type": "markdown",
   "metadata": {},
   "source": [
    "\n",
    "<br>\n",
    "Given positive integer n, find an algorithm to find the number of non-negative number division, or descomposition.<br>\n",
    "The complexity is O(n^2).<br>\n",
    "Example 1:<br>\n",
    "Input: 4<br>\n",
    "Output: 5<br>\n",
    "Explaination:<br>\n",
    "4=4<br>\n",
    "4=3+1<br>\n",
    "4=2+2<br>\n",
    "4=2+1+1<br>\n",
    "4=1+1+1+1<br>\n",
    "Example :<br>\n",
    "Input: 7<br>\n",
    "Output: 15<br>\n",
    "Explaination:<br>\n",
    "7=7<br>\n",
    "7=6+1<br>\n",
    "7=5+2<br>\n",
    "7=5+1+1<br>\n",
    "7=4+3<br>\n",
    "7=4+2+1<br>\n",
    "7=4+1+1+1<br>\n",
    "7=3+3+1<br>\n",
    "7=3+2+2<br>\n",
    "7=3+2+1+1<br>\n",
    "7=3+1+1+1+1<br>\n",
    "7=2+2+2+1<br>\n",
    "7=2+2+1+1+1<br>\n",
    "7=2+1+1+1+1+1<br>\n",
    "7=1+1+1+1+1+1+1<br>\n"
   ]
  },
  {
   "cell_type": "code",
   "execution_count": null,
   "metadata": {},
   "outputs": [],
   "source": []
  },
  {
   "cell_type": "markdown",
   "metadata": {},
   "source": [
    "\n",
    "<br>\n",
    "Given the capacity of the knapsack and items specified by weights and values,<br>\n",
    "return the maximum summarized value of the items that can be fit in the<br>\n",
    "knapsack.<br>\n",
    "Example:<br>\n",
    "capacity = 5, items(value, weight) = [(60, 5), (50, 3), (70, 4), (30, 2)]<br>\n",
    "result = 80 (items valued 50 and 30 can both be fit in the knapsack)<br>\n",
    "The time complexity is O(n * m) and the space complexity is O(m), where n is<br>\n",
    "the total number of items and m is the knapsack's capacity.<br>\n"
   ]
  },
  {
   "cell_type": "code",
   "execution_count": null,
   "metadata": {},
   "outputs": [],
   "source": []
  },
  {
   "cell_type": "markdown",
   "metadata": {},
   "source": [
    "\n",
    "<br>\n",
    "Given an unsorted array of integers, find the length of longest increasing subsequence.<br>\n",
    "Example:<br>\n",
    "Input: [10,9,2,5,3,7,101,18]<br>\n",
    "Output: 4 <br>\n",
    "Explanation: The longest increasing subsequence is [2,3,7,101], therefore the length is 4.<br>\n",
    "Time complexity:<br>\n",
    "First algorithm is O(n^2).<br>\n",
    "Second algorithm is O(nlogx) where x is the max element in the list<br>\n",
    "Third algorithm is O(nlogn)<br>\n",
    "Space complexity:<br>\n",
    "First algorithm is O(n)<br>\n",
    "Second algorithm is O(x) where x is the max element in the list<br>\n",
    "Third algorithm is O(n)<br>\n"
   ]
  },
  {
   "cell_type": "code",
   "execution_count": null,
   "metadata": {},
   "outputs": [],
   "source": []
  },
  {
   "cell_type": "markdown",
   "metadata": {},
   "source": [
    "\n",
    "<br>\n",
    "A message containing letters from A-Z is being<br>\n",
    "encoded to numbers using the following mapping:<br>\n",
    "'A' -> 1<br>\n",
    "'B' -> 2<br>\n",
    "...<br>\n",
    "'Z' -> 26<br>\n",
    "Given an encoded message containing digits,<br>\n",
    "determine the total number of ways to decode it.<br>\n",
    "For example,<br>\n",
    "Given encoded message \"12\",<br>\n",
    "it could be decoded as \"AB\" (1 2) or \"L\" (12).<br>\n",
    "The number of ways decoding \"12\" is 2.<br>\n"
   ]
  },
  {
   "cell_type": "code",
   "execution_count": null,
   "metadata": {},
   "outputs": [],
   "source": []
  },
  {
   "cell_type": "markdown",
   "metadata": {},
   "source": [
    "\n",
    "<br>\n",
    "Given a non-empty string s and a dictionary wordDict<br>\n",
    "containing a list of non-empty words,<br>\n",
    "determine if s can be segmented into a space-separated<br>\n",
    "sequence of one or more dictionary words.<br>\n",
    "You may assume the dictionary does not contain duplicate words.<br>\n",
    "For example, given<br>\n",
    "s = \"leetcode\",<br>\n",
    "dict = [\"leet\", \"code\"].<br>\n",
    "Return true because \"leetcode\" can be segmented as \"leet code\".<br>\n"
   ]
  },
  {
   "cell_type": "markdown",
   "metadata": {},
   "source": [
    "\n",
    "<br>\n",
    "s = abc word_dict = [\"a\",\"bc\"]<br>\n",
    "True False False False<br>\n"
   ]
  },
  {
   "cell_type": "markdown",
   "metadata": {},
   "source": [
    "TC: O(N^2)  SC: O(N)"
   ]
  },
  {
   "cell_type": "code",
   "execution_count": null,
   "metadata": {},
   "outputs": [],
   "source": []
  }
 ],
 "metadata": {
  "kernelspec": {
   "display_name": "Python 3",
   "language": "python",
   "name": "python3"
  },
  "language_info": {
   "codemirror_mode": {
    "name": "ipython",
    "version": 3
   },
   "file_extension": ".py",
   "mimetype": "text/x-python",
   "name": "python",
   "nbconvert_exporter": "python",
   "pygments_lexer": "ipython3",
   "version": "3.7.3"
  }
 },
 "nbformat": 4,
 "nbformat_minor": 4
}
