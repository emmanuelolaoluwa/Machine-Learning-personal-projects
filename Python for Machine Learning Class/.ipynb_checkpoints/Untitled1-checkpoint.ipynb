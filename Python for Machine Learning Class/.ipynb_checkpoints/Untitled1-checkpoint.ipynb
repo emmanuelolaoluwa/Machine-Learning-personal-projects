{
 "cells": [
  {
   "cell_type": "code",
   "execution_count": 1,
   "metadata": {},
   "outputs": [],
   "source": [
    "import tweepy\n",
    "from tweepy import OAuthHandler\n",
    "from tweepy import API\n",
    "from tweepy import Cursor\n",
    "from datetime import datetime, date, time, timedelta\n",
    "from collections import Counter\n",
    "import sys\n",
    "import os\n",
    "import csv\n",
    "\n",
    "consumer_key = 'sQr6ig0ERxeP5xWh7yxZ3zvIi'\n",
    "consumer_secret = 'AWryA8UIeqzhUXXfxgGZ95NAeLJxXdND2whS6J5wqBrsH68dfO'\n",
    "access_key= '2920925661-ZRcfqpCSdyK9VNff8M92c33lmhLwmgyUibVnky1'\n",
    "access_secret = 'lIZgpRTB9WZ4ZlK7qynwjKY0P98wYDdWHs8L7MgtLhuoE'\n",
    "\n",
    "auth = tweepy.OAuthHandler(consumer_key, consumer_secret)\n",
    "auth.set_access_token(access_key, access_secret)\n",
    "auth_api = tweepy.API(auth)"
   ]
  },
  {
   "cell_type": "code",
   "execution_count": 2,
   "metadata": {},
   "outputs": [
    {
     "name": "stdout",
     "output_type": "stream",
     "text": [
      "Getting data for realDonaldTrump\n",
      "name: Donald J. Trump\n",
      "screen_name: realDonaldTrump\n",
      "description: 45th President of the United States of America🇺🇸\n",
      "statuses_count: 46442\n",
      "friends_count: 47\n",
      "followers_count: 67000205\n"
     ]
    }
   ],
   "source": [
    "account_list = ['realDonaldTrump']\n",
    "if len(account_list) > 0:\n",
    "  for target in account_list:\n",
    "    print(\"Getting data for \" + target)\n",
    "    item = auth_api.get_user(target)\n",
    "    print(\"name: \" + item.name)\n",
    "    print(\"screen_name: \" + item.screen_name)\n",
    "    print(\"description: \" + item.description)\n",
    "    print(\"statuses_count: \" + str(item.statuses_count))\n",
    "    print(\"friends_count: \" + str(item.friends_count))\n",
    "    print(\"followers_count: \" + str(item.followers_count))\n",
    "    "
   ]
  },
  {
   "cell_type": "code",
   "execution_count": 11,
   "metadata": {},
   "outputs": [],
   "source": [
    "import datetime\n",
    "start_date = datetime.datetime(2019, 10, 1, 0, 0, 0)\n",
    "end_date = datetime.datetime(2019, 11, 24, 0, 0, 0) \n",
    "\n",
    "#file to append to\n",
    "csvFile = open('donald_trump.csv', 'a')\n",
    "\n",
    "#Use csv writer\n",
    "csvWriter = csv.writer(csvFile)\n",
    "\n",
    "try: \n",
    "    csvWriter.writerow([\"tweet\",\"time\",\"tweeter\",\"number_of_retweets\",\"number_of_favourites\"])\n",
    "    for tweet in tweepy.Cursor(auth_api.user_timeline, screen_name=\"realDonaldTrump\", exclude_replies=True, count = 10).items():  \n",
    "        if (tweet.created_at <= end_date and tweet.created_at >= start_date):\n",
    "            tweet_text = tweet.text  \n",
    "            time = tweet.created_at  \n",
    "            tweeter = tweet.user.screen_name\n",
    "            no_retweets = tweet.retweet_count\n",
    "            no_favourites = tweet.favorite_count\n",
    "            csvWriter.writerow([tweet.text.encode('utf-8'), time, tweeter, no_retweets, no_favourites])\n",
    "except tweepy.TweepError:  \n",
    "    time.sleep(60)\n"
   ]
  },
  {
   "cell_type": "code",
   "execution_count": null,
   "metadata": {},
   "outputs": [],
   "source": []
  }
 ],
 "metadata": {
  "kernelspec": {
   "display_name": "Python 3",
   "language": "python",
   "name": "python3"
  },
  "language_info": {
   "codemirror_mode": {
    "name": "ipython",
    "version": 3
   },
   "file_extension": ".py",
   "mimetype": "text/x-python",
   "name": "python",
   "nbconvert_exporter": "python",
   "pygments_lexer": "ipython3",
   "version": "3.7.3"
  }
 },
 "nbformat": 4,
 "nbformat_minor": 4
}
