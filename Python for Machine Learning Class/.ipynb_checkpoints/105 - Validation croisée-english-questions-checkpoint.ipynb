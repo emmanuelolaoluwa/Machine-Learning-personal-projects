{
 "cells": [
  {
   "cell_type": "markdown",
   "metadata": {},
   "source": [
    "# Cross validation"
   ]
  },
  {
   "cell_type": "markdown",
   "metadata": {},
   "source": [
    "## Introduction"
   ]
  },
  {
   "cell_type": "markdown",
   "metadata": {},
   "source": [
    "+ Read the file paris_airbnb.csv in a dataFrame paris_listings.\n",
    "+ Remove commas and dollars from the target column'price' and convert it to'float'.\n",
    "+ Use the numpy.random.permutation() function to mix the order of the betting_listings lines (first we place on random seed 1).\n",
    "+ Re-index the DataFrame according to this new order with the method DataFrame.reindex().\n",
    "+ Select the first 4000 lines and assign them to the split_one variable.\n",
    "+ Select the remaining 4000 lines and assign it to the split_two variable.\n"
   ]
  },
  {
   "cell_type": "code",
   "execution_count": 3,
   "metadata": {},
   "outputs": [],
   "source": [
    "# .index\n",
    "import pandas as pd\n",
    "import numpy as np\n",
    "\n",
    "dataset = pd.read_csv('paris_airbnb.csv')\n",
    "\n"
   ]
  },
  {
   "cell_type": "code",
   "execution_count": null,
   "metadata": {},
   "outputs": [],
   "source": []
  },
  {
   "cell_type": "markdown",
   "metadata": {},
   "source": [
    "## Cross-validation Holdout"
   ]
  },
  {
   "cell_type": "markdown",
   "metadata": {},
   "source": [
    "+ Train a model of the k closest neighbors using the default algorithm (auto) and the number of neighbors by default (5) in:\n",
    " - Using the'accommodates' column of train_one (first half of the dataset) for training and\n",
    " - And test it on test_one (second half of the dataset).\n",
    "+ Assign the resulting RMSE value (square root mean square error) to the iteration_one_rmse variable.\n",
    "+ Train a model of the k closest neighbors using the default algorithm (auto) and the number of neighbors by default (5):\n",
    " - Use the'accommodates' column of train_two (second half of the dataset this time) for training and\n",
    " - And test it on test_two (first half of the dataset).\n",
    "+ Assign the resulting RMSE value to the iteration_two_rmse variable.\n",
    "+ Use numpy.mean() to calculate the average of the 2 RMSE values and assign the result to the avg_rmse variable.\n",
    "+ Display the result\n"
   ]
  },
  {
   "cell_type": "code",
   "execution_count": 2,
   "metadata": {},
   "outputs": [],
   "source": [
    "# sklearn.metrics.mean_squared_error()"
   ]
  },
  {
   "cell_type": "code",
   "execution_count": null,
   "metadata": {},
   "outputs": [],
   "source": []
  },
  {
   "cell_type": "markdown",
   "metadata": {},
   "source": [
    "## Cross-validation of K-Fold"
   ]
  },
  {
   "cell_type": "markdown",
   "metadata": {},
   "source": [
    "+ Add a new column to the DataFrame paris_listings called \"fold\" which contains the fold number of each row:\n",
    "+ Fold 1 must have index lines 0 to 1600, including these 2 lines.\n",
    "+ Fold 2 must have index lines 1600 to 3200, including these 2 lines.\n",
    "+ Fold 3 must have index lines 3200 to 4800, including these 2 lines.\n",
    "+ Fold 4 must have index lines 4800 to 6400, including these 2 lines.\n",
    "+ Fold 5 must have index lines 6400 to 8000, including these 2 lines.\n",
    "+ Display the number of values for each'fold' column to confirm that each fold contains approximately the same number of elements.\n"
   ]
  },
  {
   "cell_type": "code",
   "execution_count": 3,
   "metadata": {},
   "outputs": [],
   "source": [
    "# value_counts()"
   ]
  },
  {
   "cell_type": "code",
   "execution_count": null,
   "metadata": {},
   "outputs": [],
   "source": []
  },
  {
   "cell_type": "markdown",
   "metadata": {},
   "source": [
    "## First iteration"
   ]
  },
  {
   "cell_type": "markdown",
   "metadata": {},
   "source": [
    "+ Train a model of the nearest k neighbours using the'accommodates' column as the only characteristic on the training set (folds 2 to 5 of the DataFrame paris_listings).\n",
    "+ Use the model to make predictions on the test set (column'accommodates' of fold 1) and assign the predicted results to the labels variable.\n",
    "+ Calculate the RMSE value by comparing the'price' column with the predicted label values.\n",
    "+ Assign the RMSE value to the iteration_one_rmse variable.\n",
    "+ Display the result"
   ]
  },
  {
   "cell_type": "code",
   "execution_count": null,
   "metadata": {},
   "outputs": [],
   "source": []
  },
  {
   "cell_type": "code",
   "execution_count": 28,
   "metadata": {},
   "outputs": [],
   "source": [
    "# != 1\n",
    "# == 1"
   ]
  },
  {
   "cell_type": "code",
   "execution_count": null,
   "metadata": {},
   "outputs": [],
   "source": []
  },
  {
   "cell_type": "markdown",
   "metadata": {},
   "source": [
    "## Function to train models"
   ]
  },
  {
   "cell_type": "markdown",
   "metadata": {},
   "source": [
    "+ Write a function that we will name train_and_validate that takes a dataframe as the first parameter (df) and a list of fold number values (1 to 5 in our case) as the second parameter (folds). This function should:\n",
    " - Train n models (where n is the fold number) and perform a cross validation of k-fold (using n folds). Use the default k value for the KNeighborsRegressor class.\n",
    " - Return the list of RMSE values, where the first element is when fold 1 is the test set, the second element is when fold 2 is the test set, and so on.\n",
    "+ Use the train_and_validate function to return the list of RMSE values for the paris_listings dataframe and assign it to the rmses variable.\n",
    "+ Calculate the average of these values and assign it to the avg_rmse variable.\n",
    "+ Display rmses and avg_rmse."
   ]
  },
  {
   "cell_type": "code",
   "execution_count": 32,
   "metadata": {},
   "outputs": [],
   "source": [
    "# train = paris_listings[paris_listings['fold'] != fold]"
   ]
  },
  {
   "cell_type": "code",
   "execution_count": null,
   "metadata": {},
   "outputs": [],
   "source": []
  },
  {
   "cell_type": "markdown",
   "metadata": {},
   "source": [
    "## Perform a cross validation of K-Fold using Scikit-Learn\n"
   ]
  },
  {
   "cell_type": "markdown",
   "metadata": {},
   "source": [
    "+ Create a new instance of the KFold class with the following properties:\n",
    " - 5 folds,\n",
    " - Set shuffle to True,\n",
    " - Set random_state to 1 (to get the same result as me),\n",
    " - Assigned to the variable kf.\n",
    "+ Create a new instance of the class KNeighborsRegressor and assign it to the variable knn.\n",
    "+ Use the cross_val_score() function to cross-validate k-fold in:\n",
    " - Using the KNeighborsRegressor instance knn,\n",
    " - Using the'accommodates' column for training,\n",
    " - Using the'price' column for the target column,\n",
    " - Returning an array of MSE values (one value for each fold).\n",
    "+ Assign the resulting list of MSE values to the mses variable. Then, take the absolute value followed by the square root of each MSE value. Finally, calculate the average of the resulting RMSE values and assign the result to the avg_rmse variable."
   ]
  },
  {
   "cell_type": "code",
   "execution_count": null,
   "metadata": {},
   "outputs": [],
   "source": []
  },
  {
   "cell_type": "markdown",
   "metadata": {},
   "source": [
    "## Explore different values of k"
   ]
  },
  {
   "cell_type": "code",
   "execution_count": null,
   "metadata": {},
   "outputs": [],
   "source": []
  }
 ],
 "metadata": {
  "kernelspec": {
   "display_name": "Python 3",
   "language": "python",
   "name": "python3"
  },
  "language_info": {
   "codemirror_mode": {
    "name": "ipython",
    "version": 3
   },
   "file_extension": ".py",
   "mimetype": "text/x-python",
   "name": "python",
   "nbconvert_exporter": "python",
   "pygments_lexer": "ipython3",
   "version": "3.7.3"
  }
 },
 "nbformat": 4,
 "nbformat_minor": 2
}
