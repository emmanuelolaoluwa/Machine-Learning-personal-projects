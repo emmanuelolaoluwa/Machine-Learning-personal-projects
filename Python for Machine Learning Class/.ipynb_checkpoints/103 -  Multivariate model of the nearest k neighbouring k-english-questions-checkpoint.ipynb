{
 "cells": [
  {
   "cell_type": "markdown",
   "metadata": {},
   "source": [
    "# Multivariate model of the K closest neighbors"
   ]
  },
  {
   "cell_type": "markdown",
   "metadata": {},
   "source": [
    "## Summary"
   ]
  },
  {
   "cell_type": "markdown",
   "metadata": {},
   "source": [
    "+ Use the DataFrame.info() method to return the number of non-zero values in each column."
   ]
  },
  {
   "cell_type": "code",
   "execution_count": null,
   "metadata": {},
   "outputs": [],
   "source": []
  },
  {
   "cell_type": "markdown",
   "metadata": {},
   "source": [
    "## Delete features"
   ]
  },
  {
   "cell_type": "markdown",
   "metadata": {},
   "source": [
    "+ Delete the 9 columns that we have just quoted from the DataFrame paris_listings:\n",
    " - 3 containing non-numeric values (room_type, city and state)\n",
    " - 3 containing numerical but not ordinal values (longitude, latitude and zipcode)\n",
    " - 3 describing the host rather than the accommodation (host_)\n",
    "+ Display the sum of the missing values of the resulting DataFrame."
   ]
  },
  {
   "cell_type": "code",
   "execution_count": 12,
   "metadata": {},
   "outputs": [],
   "source": [
    "# Dataframe.drop() to specify the columns to be deleted\n",
    "\n",
    "# isnull() and sum() to obtain the sum of the missing values"
   ]
  },
  {
   "cell_type": "code",
   "execution_count": null,
   "metadata": {},
   "outputs": [],
   "source": []
  },
  {
   "cell_type": "markdown",
   "metadata": {},
   "source": [
    "## Handle missing values"
   ]
  },
  {
   "cell_type": "markdown",
   "metadata": {},
   "source": [
    "+ Remove the cleaning_fee and security_deposit columns from the DataFrame paris_listings.\n",
    "+ Then, delete all rows containing a missing value in the'bedrooms','bathrooms' and'beds' columns of the paris_listings dataframe.\n",
    " - You can do this by using the dropna() method by setting the axis parameter to 0.\n",
    " - Since only the bedrooms, bathrooms, and beds columns contain missing values, the rows containing these missing values in these columns will be deleted.\n",
    "+ Display the number of zero values for the newly updated new DataFrame to confirm that there are no more missing values."
   ]
  },
  {
   "cell_type": "code",
   "execution_count": 16,
   "metadata": {},
   "outputs": [],
   "source": [
    "# paris_listings.dropna(axis=0) to delete all lines containing values\n",
    "# missing"
   ]
  },
  {
   "cell_type": "code",
   "execution_count": null,
   "metadata": {},
   "outputs": [],
   "source": []
  },
  {
   "cell_type": "markdown",
   "metadata": {},
   "source": [
    "## Normalize columns"
   ]
  },
  {
   "cell_type": "markdown",
   "metadata": {},
   "source": [
    "+ Normalize all remaining columns of paris_listings and assign the new DataFrame containing just the normalized columns to the normalized_listings variable.\n",
    "+ Add the'price' column from paris_listings to normalized_listings.\n",
    "+ Display the first 3 values of normalized_listings.\n"
   ]
  },
  {
   "cell_type": "code",
   "execution_count": null,
   "metadata": {},
   "outputs": [],
   "source": []
  },
  {
   "cell_type": "markdown",
   "metadata": {},
   "source": [
    "## Euclidean distance for the multivariate case\n"
   ]
  },
  {
   "cell_type": "markdown",
   "metadata": {},
   "source": [
    "+ Calculate the Euclidean distance using only the accommodates and bedrooms characteristics between the first line and the 5th line of normalized_listings using the distance.euclidean() function.\n",
    "+ Assign the distance value to the first_fifth_distance variable and display the result.\n",
    "\n"
   ]
  },
  {
   "cell_type": "code",
   "execution_count": 20,
   "metadata": {},
   "outputs": [],
   "source": [
    "# normalized_listings.iloc[0[['accommodates', 'bedrooms']]"
   ]
  },
  {
   "cell_type": "code",
   "execution_count": null,
   "metadata": {},
   "outputs": [],
   "source": []
  },
  {
   "cell_type": "markdown",
   "metadata": {},
   "source": [
    "## Adapter un modèle et faire des prédictions\n"
   ]
  },
  {
   "cell_type": "markdown",
   "metadata": {},
   "source": [
    "+ Create an instance of the class **KNeighborsRegressor** with the following parameters:\n",
    " - n_neighbors: 5\n",
    " - algorithm: raw\n",
    "+ Use the **fit** method to specify the data we want to use for our model of the nearest neighbouring k. Use the following parameters:\n",
    " - The training data, the characteristic columns: only the'accommodates' and'bedrooms' columns, in this order, from the DataFrame train_df.\n",
    " - The target column: the'price' column of the DataFrame train_df.\n",
    "+ Call the method **predict** to make predictions on it:\n",
    " - The'accommodates' and'bedrooms' columns of the DataFrame test_df\n",
    " - Assign the Numpy table resulting from the predicted price values to the predictions variable."
   ]
  },
  {
   "cell_type": "code",
   "execution_count": null,
   "metadata": {},
   "outputs": [],
   "source": []
  },
  {
   "cell_type": "markdown",
   "metadata": {},
   "source": [
    "## Calculate the mean square error"
   ]
  },
  {
   "cell_type": "markdown",
   "metadata": {},
   "source": [
    "+ Use the mean_squared_error function to calculate the MSE root mean square error value for the predictions we have made.\n",
    "+ Assign the MSE value to the variable two_features_mse.\n",
    "+ Calculate the square root value of the RMSE mean square error by taking the square root of the MSE value and assign the result to the variable two_features_rmse.\n",
    "+ Display these 2 error results.\n"
   ]
  },
  {
   "cell_type": "code",
   "execution_count": null,
   "metadata": {},
   "outputs": [],
   "source": []
  },
  {
   "cell_type": "markdown",
   "metadata": {},
   "source": [
    "## Use more features"
   ]
  },
  {
   "cell_type": "markdown",
   "metadata": {},
   "source": [
    "+ Create a new instance of the KNeighborsRegressor class with the following parameters:\n",
    "+ Adapt the model so that it uses the following columns of our training set (train_df):\n",
    " - accommodating\n",
    " - bedrooms\n",
    " - bathrooms\n",
    " - number_of_reviews\n",
    "+ Use the model to make predictions on the test set (test_df) using the same columns. Assign the Numpy table of predictions to the four_predictions variable.\n",
    "+ Use the mean_squared_error() function to calculate the MSE value for these predictions by comparing the furnace_prediction values with the price column of the DataFrame test_df. Assign the calculated MSE value to the variable four_mse.\n",
    "+ Calculate the RMSE value and assign the result to the variable four_rmse.\n",
    "+ Display the results four_mse and four_rmse."
   ]
  },
  {
   "cell_type": "code",
   "execution_count": null,
   "metadata": {},
   "outputs": [],
   "source": []
  },
  {
   "cell_type": "markdown",
   "metadata": {},
   "source": [
    "## Use all features"
   ]
  },
  {
   "cell_type": "markdown",
   "metadata": {},
   "source": [
    "+ Use all columns, except the'price' column, to drive our model of the nearest neighbouring k's using the same parameters for the KNeighborsRegressor class as the previous videos.\n",
    "+ Use the model to make predictions on the test set and assign the resulting Numpy array to the all_features_predictions variable.\n",
    "+ Calculate the MSE and RMSE values and assign the results to the variables all_features_mse and all_features_rmse.\n",
    "+ Display error scores.\n"
   ]
  },
  {
   "cell_type": "code",
   "execution_count": 26,
   "metadata": {},
   "outputs": [],
   "source": [
    "# df.columns.tolist() to retrieve all columns in a list \n",
    "# remove() to delete a column"
   ]
  },
  {
   "cell_type": "code",
   "execution_count": null,
   "metadata": {},
   "outputs": [],
   "source": []
  }
 ],
 "metadata": {
  "kernelspec": {
   "display_name": "Python 3",
   "language": "python",
   "name": "python3"
  },
  "language_info": {
   "codemirror_mode": {
    "name": "ipython",
    "version": 3
   },
   "file_extension": ".py",
   "mimetype": "text/x-python",
   "name": "python",
   "nbconvert_exporter": "python",
   "pygments_lexer": "ipython3",
   "version": "3.7.4"
  }
 },
 "nbformat": 4,
 "nbformat_minor": 2
}
