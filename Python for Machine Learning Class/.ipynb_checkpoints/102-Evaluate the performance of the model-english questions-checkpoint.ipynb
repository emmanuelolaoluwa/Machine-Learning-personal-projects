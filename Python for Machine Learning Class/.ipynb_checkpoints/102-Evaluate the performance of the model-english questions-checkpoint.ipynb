{
 "cells": [
  {
   "cell_type": "markdown",
   "metadata": {},
   "source": [
    "# Evaluate the performance of the model"
   ]
  },
  {
   "cell_type": "markdown",
   "metadata": {},
   "source": [
    "## Test the quality of predictions"
   ]
  },
  {
   "cell_type": "markdown",
   "metadata": {},
   "source": [
    "+ Separate the dataframe in 2: \n",
    " - train_df containing 6000 lines of paris_listings\n",
    " - test_df containing the rest\n",
    "+ Modify the predict_price function, change the DataFrame temp_df. Change the DataFrame paris_listings to train_df, so that only the training dataset is used.\n",
    "+ Use the Series apply method to apply the predict_price function to the values in the'accommodates' column of the DataFrame test_df.\n",
    "+ Assign the resulting Series object to the'predicted_price' column of test_df."
   ]
  },
  {
   "cell_type": "code",
   "execution_count": null,
   "metadata": {},
   "outputs": [],
   "source": []
  },
  {
   "cell_type": "markdown",
   "metadata": {},
   "source": [
    "## Error metrics"
   ]
  },
  {
   "cell_type": "markdown",
   "metadata": {},
   "source": [
    "+ Use the numpy.absolute() method to calculate the average absolute error MAE between predicted_price and price.\n",
    "+ Assign the result to the variable mae."
   ]
  },
  {
   "cell_type": "code",
   "execution_count": null,
   "metadata": {},
   "outputs": [],
   "source": []
  },
  {
   "cell_type": "markdown",
   "metadata": {},
   "source": [
    "## Mean square error"
   ]
  },
  {
   "cell_type": "markdown",
   "metadata": {},
   "source": [
    "+ Calculate the MSE value between the columns'predicted_price' and'price'.\n",
    "+ Assign the result to the variable mse.\n",
    "+ Display the result."
   ]
  },
  {
   "cell_type": "code",
   "execution_count": null,
   "metadata": {},
   "outputs": [],
   "source": []
  },
  {
   "cell_type": "markdown",
   "metadata": {},
   "source": [
    "## Train another model"
   ]
  },
  {
   "cell_type": "markdown",
   "metadata": {},
   "source": [
    "+ Modify the following predict_price function by using the'bedrooms' column instead of the'accommodates' column to make our predictions.\n",
    "+ Apply the function to the test_df dataframe and assign the resulting Series object containing the predicted price values to the'predicted_price' column of test_df.\n",
    "+ Calculate the squared error between the'price' and'predicted_price' columns of test_df and assign the resulting Series object to the'squared_error' column of test_df.\n",
    "+ Calculate the average of the'squared_error' column of test_df and assign it to the variable mse.\n",
    "+ Display the MSE value."
   ]
  },
  {
   "cell_type": "code",
   "execution_count": null,
   "metadata": {},
   "outputs": [],
   "source": []
  },
  {
   "cell_type": "markdown",
   "metadata": {},
   "source": [
    "## Square root of the mean square error"
   ]
  },
  {
   "cell_type": "markdown",
   "metadata": {},
   "source": [
    "+ Calculate the RMSE value of the driven model using the'bedrooms' column.\n",
    "+ Assign the result to the rmse variable.\n",
    "+ Display the result"
   ]
  },
  {
   "cell_type": "code",
   "execution_count": null,
   "metadata": {},
   "outputs": [],
   "source": []
  },
  {
   "cell_type": "markdown",
   "metadata": {},
   "source": [
    "## Compare the absolute mean error and the square root of the mean square error"
   ]
  },
  {
   "cell_type": "markdown",
   "metadata": {},
   "source": [
    "+ Calculate MAE for errors_one and assign it to the mae_one variable.\n",
    "+ Calculate RMSE for errors_one and assign it to the variable rmse_one.\n",
    "+ Calculate MAE for errors_two and assign it to mae_two.\n",
    "+ Calculate RMSE errors_two and assign it to rmse_two."
   ]
  },
  {
   "cell_type": "code",
   "execution_count": null,
   "metadata": {},
   "outputs": [],
   "source": [
    "errors_one = pd.Series([5, 10, 5, 10, 5, 10, 5, 10, 5, 10, 5, 10, 5, 10, 5, 10, 5, 10])\n",
    "errors_two = pd.Series([5, 10, 5, 10, 5, 10, 5, 10, 5, 10, 5, 10, 5, 10, 5, 10, 5, 1000])"
   ]
  },
  {
   "cell_type": "code",
   "execution_count": 16,
   "metadata": {},
   "outputs": [],
   "source": [
    "# .sum() \n",
    "# numpy.sqrt()"
   ]
  },
  {
   "cell_type": "code",
   "execution_count": null,
   "metadata": {},
   "outputs": [],
   "source": []
  }
 ],
 "metadata": {
  "kernelspec": {
   "display_name": "Python 3",
   "language": "python",
   "name": "python3"
  },
  "language_info": {
   "codemirror_mode": {
    "name": "ipython",
    "version": 3
   },
   "file_extension": ".py",
   "mimetype": "text/x-python",
   "name": "python",
   "nbconvert_exporter": "python",
   "pygments_lexer": "ipython3",
   "version": "3.7.4"
  }
 },
 "nbformat": 4,
 "nbformat_minor": 2
}
