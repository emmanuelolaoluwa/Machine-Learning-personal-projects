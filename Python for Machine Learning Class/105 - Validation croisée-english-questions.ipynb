{
 "cells": [
  {
   "cell_type": "markdown",
   "metadata": {},
   "source": [
    "# Cross validation"
   ]
  },
  {
   "cell_type": "markdown",
   "metadata": {},
   "source": [
    "## Introduction"
   ]
  },
  {
   "cell_type": "markdown",
   "metadata": {},
   "source": [
    "+ Read the file paris_airbnb.csv in a dataFrame paris_listings.\n",
    "+ Remove commas and dollars from the target column'price' and convert it to'float'.\n",
    "+ Use the numpy.random.permutation() function to mix the order of the betting_listings lines (first we place on random seed 1).\n",
    "+ Re-index the DataFrame according to this new order with the method DataFrame.reindex().\n",
    "+ Select the first 4000 lines and assign them to the split_one variable.\n",
    "+ Select the remaining 4000 lines and assign it to the split_two variable.\n"
   ]
  },
  {
   "cell_type": "code",
   "execution_count": 6,
   "metadata": {},
   "outputs": [],
   "source": [
    "# .index\n",
    "import numpy as np\n",
    "import pandas as pd\n",
    "pd.options.mode.chained_assignment = None\n",
    "np.random.seed(1)\n",
    "\n",
    "paris_listings = pd.read_csv('paris_airbnb.csv')\n",
    "stripped_commas = paris_listings['price'].str.replace(',', '')\n",
    "stripped_dollars = stripped_commas.str.replace('$','')\n",
    "paris_listings['price'] = stripped_dollars.astype('float')\n",
    "\n",
    "shuffled_index = np.random.permutation(paris_listings.index)\n",
    "paris_listings = paris_listings.reindex(shuffled_index)\n",
    "\n",
    "split_one = paris_listings.iloc[0:4000]\n",
    "split_two = paris_listings.iloc[4000:]"
   ]
  },
  {
   "cell_type": "code",
   "execution_count": 7,
   "metadata": {},
   "outputs": [],
   "source": [
    "\n",
    "def predict_price(new_listing):\n",
    "    temp_df = train_df.copy()\n",
    "    temp_df['distance'] = temp_df['accommodates'].apply(lambda x: np.abs(x - new_listing))\n",
    "    temp_df = temp_df.sort_values('distance')\n",
    "    nearest_neighbor_prices = temp_df.iloc[0:5]['price']\n",
    "    predicted_price = nearest_neighbor_prices.mean()\n",
    "    return(predicted_price)"
   ]
  },
  {
   "cell_type": "code",
   "execution_count": 9,
   "metadata": {},
   "outputs": [
    {
     "name": "stdout",
     "output_type": "stream",
     "text": [
      "88.96592437557203 115.17976784140521 102.07284610848862\n"
     ]
    }
   ],
   "source": [
    "#from sklearn.model_selection import KFold\n",
    "#kf = KFold(n_splits=2)\n",
    "#kf.get_n_splits(split_one)\n",
    "from sklearn.neighbors import KNeighborsRegressor\n",
    "from sklearn.metrics import mean_squared_error\n",
    "\n",
    "train_one = split_one\n",
    "test_one = split_two\n",
    "train_two = split_two\n",
    "test_two = split_one\n",
    "\n",
    "# première moitié\n",
    "model = KNeighborsRegressor()\n",
    "model.fit(train_one[['accommodates']], train_one['price'])\n",
    "test_one['predicted_price'] = model.predict(test_one[['accommodates']])\n",
    "iteration_one_rmse = mean_squared_error(test_one['price'], test_one['predicted_price'])**(1/2)\n",
    "\n",
    "# seconde moitié\n",
    "model.fit(train_two[['accommodates']], train_two['price'])\n",
    "test_two['predicted_price'] = model.predict(test_two[['accommodates']])\n",
    "iteration_two_rmse = mean_squared_error(test_two['price'], test_two['predicted_price'])**(1/2)\n",
    "\n",
    "avg_rmse = np.mean([iteration_two_rmse, iteration_one_rmse])\n",
    "print(iteration_one_rmse, iteration_two_rmse, avg_rmse)"
   ]
  },
  {
   "cell_type": "markdown",
   "metadata": {},
   "source": [
    "## Cross-validation Holdout"
   ]
  },
  {
   "cell_type": "markdown",
   "metadata": {},
   "source": [
    "+ Train a model of the k closest neighbors using the default algorithm (auto) and the number of neighbors by default (5) in:\n",
    " - Using the'accommodates' column of train_one (first half of the dataset) for training and\n",
    " - And test it on test_one (second half of the dataset).\n",
    "+ Assign the resulting RMSE value (square root mean square error) to the iteration_one_rmse variable.\n",
    "+ Train a model of the k closest neighbors using the default algorithm (auto) and the number of neighbors by default (5):\n",
    " - Use the'accommodates' column of train_two (second half of the dataset this time) for training and\n",
    " - And test it on test_two (first half of the dataset).\n",
    "+ Assign the resulting RMSE value to the iteration_two_rmse variable.\n",
    "+ Use numpy.mean() to calculate the average of the 2 RMSE values and assign the result to the avg_rmse variable.\n",
    "+ Display the result\n"
   ]
  },
  {
   "cell_type": "code",
   "execution_count": 11,
   "metadata": {},
   "outputs": [
    {
     "data": {
      "text/plain": [
       "5"
      ]
     },
     "execution_count": 11,
     "metadata": {},
     "output_type": "execute_result"
    }
   ],
   "source": [
    "\n",
    "\n",
    "kf = KFold(n_splits=5)\n",
    "kf.get_n_splits(paris_listings['fold'].iloc[0:1600])\n",
    "\n",
    "for train_index, test_index in kf.split(X):\n",
    " print(“TRAIN:”, train_index, “TEST:”, test_index)\n",
    " X_train, X_test = paris_listings['fold'].iloc[0:1600] , paris_listings['fold'].iloc[1600:3200]\n",
    " y_train, y_test = paris_listings['fold'].iloc[3200:4800], paris_listings['fold'].iloc[4800:6400]\n",
    "('TRAIN:', array([0, 1]), 'TEST:', array([2, 3]))"
   ]
  },
  {
   "cell_type": "code",
   "execution_count": null,
   "metadata": {},
   "outputs": [],
   "source": []
  },
  {
   "cell_type": "markdown",
   "metadata": {},
   "source": [
    "## Cross-validation of K-Fold"
   ]
  },
  {
   "cell_type": "markdown",
   "metadata": {},
   "source": [
    "+ Add a new column to the DataFrame paris_listings called \"fold\" which contains the fold number of each row:\n",
    "+ Fold 1 must have index lines 0 to 1600, including these 2 lines.\n",
    "+ Fold 2 must have index lines 1600 to 3200, including these 2 lines.\n",
    "+ Fold 3 must have index lines 3200 to 4800, including these 2 lines.\n",
    "+ Fold 4 must have index lines 4800 to 6400, including these 2 lines.\n",
    "+ Fold 5 must have index lines 6400 to 8000, including these 2 lines.\n",
    "+ Display the number of values for each'fold' column to confirm that each fold contains approximately the same number of elements.\n"
   ]
  },
  {
   "cell_type": "code",
   "execution_count": 15,
   "metadata": {},
   "outputs": [
    {
     "name": "stdout",
     "output_type": "stream",
     "text": [
      "[81.94523308283405, 156.1902075995803, 72.58622217749041, 99.10605291807357, 83.16789539840478]\n",
      "98.59912223527662\n"
     ]
    }
   ],
   "source": [
    "# value_counts()\n",
    "# sklearn.metrics.mean_squared_error()\n",
    "from sklearn.model_selection import KFold\n",
    "import numpy as np\n",
    "fold_ids = [1,2,3,4,5]\n",
    "\n",
    "paris_listings['fold'] = 0\n",
    "paris_listings['fold'].iloc[0:1600] = 1\n",
    "paris_listings['fold'].iloc[1600:3200] = 2\n",
    "paris_listings['fold'].iloc[3200:4800] = 3\n",
    "paris_listings['fold'].iloc[4800:6400] = 4\n",
    "paris_listings['fold'].iloc[6400:8000] = 5\n",
    "\n",
    "def train_and_validate(df, folds):\n",
    "    fold_rmses = []\n",
    "    #training\n",
    "    for fold in folds:\n",
    "        model = KNeighborsRegressor()\n",
    "        train = df[df['fold'] != fold]\n",
    "        test = df[df['fold'] == fold]\n",
    "        model.fit(train[['accommodates']],train['price'])\n",
    "    \n",
    "    #prediction\n",
    "        labels = model.predict(test[['accommodates']])\n",
    "        test['predicted_price'] = labels\n",
    "        mse = mean_squared_error(test['price'], test['predicted_price'])\n",
    "        rmse = mse**(1/2)\n",
    "        fold_rmses.append(rmse)\n",
    "    return (fold_rmses)\n",
    "\n",
    "rmses = train_and_validate(paris_listings, fold_ids)\n",
    "print(rmses)\n",
    "\n",
    "avg_rmse = np.mean(rmses)\n",
    "print(avg_rmse)"
   ]
  },
  {
   "cell_type": "code",
   "execution_count": null,
   "metadata": {},
   "outputs": [],
   "source": []
  },
  {
   "cell_type": "markdown",
   "metadata": {},
   "source": [
    "## First iteration"
   ]
  },
  {
   "cell_type": "markdown",
   "metadata": {},
   "source": [
    "+ Train a model of the nearest k neighbours using the'accommodates' column as the only characteristic on the training set (folds 2 to 5 of the DataFrame paris_listings).\n",
    "+ Use the model to make predictions on the test set (column'accommodates' of fold 1) and assign the predicted results to the labels variable.\n",
    "+ Calculate the RMSE value by comparing the'price' column with the predicted label values.\n",
    "+ Assign the RMSE value to the iteration_one_rmse variable.\n",
    "+ Display the result"
   ]
  },
  {
   "cell_type": "code",
   "execution_count": null,
   "metadata": {},
   "outputs": [],
   "source": []
  },
  {
   "cell_type": "code",
   "execution_count": 28,
   "metadata": {},
   "outputs": [],
   "source": [
    "# != 1\n",
    "# == 1"
   ]
  },
  {
   "cell_type": "code",
   "execution_count": null,
   "metadata": {},
   "outputs": [],
   "source": []
  },
  {
   "cell_type": "markdown",
   "metadata": {},
   "source": [
    "## Function to train models"
   ]
  },
  {
   "cell_type": "markdown",
   "metadata": {},
   "source": [
    "+ Write a function that we will name train_and_validate that takes a dataframe as the first parameter (df) and a list of fold number values (1 to 5 in our case) as the second parameter (folds). This function should:\n",
    " - Train n models (where n is the fold number) and perform a cross validation of k-fold (using n folds). Use the default k value for the KNeighborsRegressor class.\n",
    " - Return the list of RMSE values, where the first element is when fold 1 is the test set, the second element is when fold 2 is the test set, and so on.\n",
    "+ Use the train_and_validate function to return the list of RMSE values for the paris_listings dataframe and assign it to the rmses variable.\n",
    "+ Calculate the average of these values and assign it to the avg_rmse variable.\n",
    "+ Display rmses and avg_rmse."
   ]
  },
  {
   "cell_type": "code",
   "execution_count": 32,
   "metadata": {},
   "outputs": [],
   "source": [
    "# train = paris_listings[paris_listings['fold'] != fold]"
   ]
  },
  {
   "cell_type": "code",
   "execution_count": null,
   "metadata": {},
   "outputs": [],
   "source": []
  },
  {
   "cell_type": "markdown",
   "metadata": {},
   "source": [
    "## Perform a cross validation of K-Fold using Scikit-Learn\n"
   ]
  },
  {
   "cell_type": "markdown",
   "metadata": {},
   "source": [
    "+ Create a new instance of the KFold class with the following properties:\n",
    " - 5 folds,\n",
    " - Set shuffle to True,\n",
    " - Set random_state to 1 (to get the same result as me),\n",
    " - Assigned to the variable kf.\n",
    "+ Create a new instance of the class KNeighborsRegressor and assign it to the variable knn.\n",
    "+ Use the cross_val_score() function to cross-validate k-fold in:\n",
    " - Using the KNeighborsRegressor instance knn,\n",
    " - Using the'accommodates' column for training,\n",
    " - Using the'price' column for the target column,\n",
    " - Returning an array of MSE values (one value for each fold).\n",
    "+ Assign the resulting list of MSE values to the mses variable. Then, take the absolute value followed by the square root of each MSE value. Finally, calculate the average of the resulting RMSE values and assign the result to the avg_rmse variable."
   ]
  },
  {
   "cell_type": "code",
   "execution_count": 27,
   "metadata": {},
   "outputs": [
    {
     "name": "stdout",
     "output_type": "stream",
     "text": [
      "[ 75.39017691  78.61860292  91.61952671  87.38039883 158.31198012]\n",
      "98.26413709965395\n"
     ]
    }
   ],
   "source": [
    "from sklearn.model_selection import cross_val_score, KFold\n",
    "\n",
    "kf = KFold(5, shuffle=True, random_state=1)\n",
    "knn = KNeighborsRegressor()\n",
    "mses = cross_val_score(knn, paris_listings[['accommodates']], paris_listings['price'], scoring='neg_mean_squared_error', cv=kf)\n",
    "rmses = np.sqrt(np.absolute(mses))\n",
    "avg_rmse = np.mean(rmses)\n",
    "\n",
    "print(rmses)\n",
    "print(avg_rmse)"
   ]
  },
  {
   "cell_type": "markdown",
   "metadata": {},
   "source": [
    "## Explore different values of k"
   ]
  },
  {
   "cell_type": "code",
   "execution_count": 29,
   "metadata": {},
   "outputs": [
    {
     "name": "stdout",
     "output_type": "stream",
     "text": [
      "5 folds:  avg RMSE:  98.26413709965395 std RMSE:  30.58599393612067\n",
      "6 folds:  avg RMSE:  96.72094167843518 std RMSE:  31.86150896719774\n",
      "7 folds:  avg RMSE:  100.5802680585613 std RMSE:  30.298978546243564\n",
      "8 folds:  avg RMSE:  99.09090770943914 std RMSE:  32.01216994081181\n",
      "9 folds:  avg RMSE:  100.65349476343783 std RMSE:  31.016383141381176\n",
      "10 folds:  avg RMSE:  99.64732774449637 std RMSE:  32.80776719590842\n",
      "11 folds:  avg RMSE:  98.01098681083695 std RMSE:  34.61336551901312\n",
      "12 folds:  avg RMSE:  96.32608190568624 std RMSE:  36.84213484714486\n",
      "13 folds:  avg RMSE:  96.33532504669681 std RMSE:  36.04164484994614\n",
      "14 folds:  avg RMSE:  97.83887571975254 std RMSE:  37.486067259653595\n",
      "15 folds:  avg RMSE:  95.58687573751473 std RMSE:  36.73027442785193\n",
      "16 folds:  avg RMSE:  132.60431944488175 std RMSE:  145.34093862212308\n",
      "17 folds:  avg RMSE:  98.2756484776724 std RMSE:  39.844277774194715\n",
      "18 folds:  avg RMSE:  96.66674124116822 std RMSE:  41.06923127462802\n",
      "19 folds:  avg RMSE:  94.81790717392869 std RMSE:  40.53344699367584\n",
      "20 folds:  avg RMSE:  98.40845663579657 std RMSE:  44.22794142349994\n",
      "21 folds:  avg RMSE:  94.0176576804826 std RMSE:  40.70953766964937\n",
      "22 folds:  avg RMSE:  97.57244508809505 std RMSE:  40.786361562055376\n",
      "23 folds:  avg RMSE:  93.25633598907179 std RMSE:  43.08460768935064\n",
      "24 folds:  avg RMSE:  93.21301655441545 std RMSE:  42.62459220942427\n",
      "25 folds:  avg RMSE:  94.24168907384646 std RMSE:  42.552961477533465\n",
      "26 folds:  avg RMSE:  93.2142754020566 std RMSE:  43.46726866640484\n",
      "27 folds:  avg RMSE:  91.88362947113649 std RMSE:  43.43937461357997\n",
      "28 folds:  avg RMSE:  92.78941791642127 std RMSE:  44.89576762456111\n",
      "29 folds:  avg RMSE:  93.0580547536227 std RMSE:  44.7757831581411\n"
     ]
    }
   ],
   "source": [
    "for fold in range(5, 30):\n",
    "    \n",
    "    kf = KFold(fold, shuffle=True, random_state=1)\n",
    "    knn = KNeighborsRegressor()\n",
    "    mses = cross_val_score(knn, paris_listings[['accommodates']], paris_listings['price'], scoring='neg_mean_squared_error', cv=kf)\n",
    "    rmses = np.sqrt(np.absolute(mses))\n",
    "    avg_rmse = np.mean(rmses)\n",
    "    std_rmse = np.std(rmses)\n",
    "    \n",
    "    print(str(fold),\"folds: \", \"avg RMSE: \", str(avg_rmse), \"std RMSE: \", str(std_rmse))\n"
   ]
  }
 ],
 "metadata": {
  "kernelspec": {
   "display_name": "Python 3",
   "language": "python",
   "name": "python3"
  },
  "language_info": {
   "codemirror_mode": {
    "name": "ipython",
    "version": 3
   },
   "file_extension": ".py",
   "mimetype": "text/x-python",
   "name": "python",
   "nbconvert_exporter": "python",
   "pygments_lexer": "ipython3",
   "version": "3.7.3"
  }
 },
 "nbformat": 4,
 "nbformat_minor": 2
}
